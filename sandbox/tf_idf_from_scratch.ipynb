{
 "cells": [
  {
   "cell_type": "markdown",
   "id": "b32b5ca5",
   "metadata": {},
   "source": [
    "## Testing for TF-IDF from Scratch"
   ]
  },
  {
   "cell_type": "code",
   "execution_count": null,
   "id": "b4ed3f57",
   "metadata": {},
   "outputs": [],
   "source": [
    "import pandas as pd\n",
    "import os"
   ]
  },
  {
   "cell_type": "code",
   "execution_count": 9,
   "id": "a3812b3e",
   "metadata": {},
   "outputs": [
    {
     "data": {
      "application/vnd.microsoft.datawrangler.viewer.v0+json": {
       "columns": [
        {
         "name": "index",
         "rawType": "int64",
         "type": "integer"
        },
        {
         "name": "id",
         "rawType": "int64",
         "type": "integer"
        },
        {
         "name": "category",
         "rawType": "object",
         "type": "string"
        },
        {
         "name": "text",
         "rawType": "object",
         "type": "string"
        }
       ],
       "ref": "a00dba02-5f46-4ec9-b8d9-9ecfbe34c9ed",
       "rows": [
        [
         "0",
         "1",
         "Product Description",
         "Experience unparalleled sound quality with the EchoSphere wireless earbuds, featuring noise cancellation, 12-hour battery life, and an ergonomic design perfect for workouts."
        ],
        [
         "1",
         "2",
         "Movie Synopsis",
         "In a world ravaged by climate change, a group of unlikely heroes embarks on a perilous journey to save humanity from extinction."
        ],
        [
         "2",
         "3",
         "News Article",
         "The city council approved the new public transportation plan yesterday, aiming to reduce traffic congestion and lower carbon emissions by 2030."
        ],
        [
         "3",
         "4",
         "Recipe",
         "Preheat the oven to 375°F. Mix flour, sugar, and eggs in a bowl, then fold in fresh blueberries. Bake for 25 minutes or until golden brown."
        ],
        [
         "4",
         "5",
         "Travel Guide",
         "Discover the hidden gems of Kyoto, from tranquil temples to bustling markets, and experience authentic Japanese culture like never before."
        ],
        [
         "5",
         "6",
         "Scientific Abstract",
         "This study investigates the effects of microplastic pollution on marine ecosystems, revealing significant impacts on coral reef health and biodiversity."
        ],
        [
         "6",
         "7",
         "Book Review",
         "An evocative tale of love and loss, 'The Silent Horizon' beautifully captures the complexities of human relationships through vivid prose."
        ],
        [
         "7",
         "8",
         "Job Posting",
         "Looking for a skilled software engineer proficient in Python and cloud computing to join a fast-paced startup focused on AI-driven healthcare solutions."
        ],
        [
         "8",
         "9",
         "User Manual",
         "To reset your device, hold the power button for 10 seconds until the LED indicator flashes. Release the button and wait for the system reboot."
        ],
        [
         "9",
         "10",
         "Historical Event",
         "The Berlin Wall, constructed in 1961, symbolized the Cold War division between East and West Germany until its fall in 1989 sparked reunification."
        ],
        [
         "10",
         "11",
         "Customer Review",
         "The blender exceeded my expectations with its powerful motor and easy-to-clean design. Perfect for smoothies and soups!"
        ],
        [
         "11",
         "12",
         "Health & Fitness",
         "Regular cardio workouts not only improve heart health but also boost mental clarity and reduce stress levels."
        ],
        [
         "12",
         "13",
         "Legal Document",
         "This agreement is entered into by and between Party A and Party B for the purpose of outlining the terms and conditions of service."
        ],
        [
         "13",
         "14",
         "E-commerce FAQ",
         "Q: Does this jacket have waterproof capabilities? A: Yes, it is made with breathable waterproof fabric suitable for heavy rain."
        ],
        [
         "14",
         "15",
         "Educational Content",
         "Photosynthesis is the process by which green plants convert sunlight into chemical energy, producing oxygen as a byproduct."
        ]
       ],
       "shape": {
        "columns": 3,
        "rows": 15
       }
      },
      "text/html": [
       "<div>\n",
       "<style scoped>\n",
       "    .dataframe tbody tr th:only-of-type {\n",
       "        vertical-align: middle;\n",
       "    }\n",
       "\n",
       "    .dataframe tbody tr th {\n",
       "        vertical-align: top;\n",
       "    }\n",
       "\n",
       "    .dataframe thead th {\n",
       "        text-align: right;\n",
       "    }\n",
       "</style>\n",
       "<table border=\"1\" class=\"dataframe\">\n",
       "  <thead>\n",
       "    <tr style=\"text-align: right;\">\n",
       "      <th></th>\n",
       "      <th>id</th>\n",
       "      <th>category</th>\n",
       "      <th>text</th>\n",
       "    </tr>\n",
       "  </thead>\n",
       "  <tbody>\n",
       "    <tr>\n",
       "      <th>0</th>\n",
       "      <td>1</td>\n",
       "      <td>Product Description</td>\n",
       "      <td>Experience unparalleled sound quality with the...</td>\n",
       "    </tr>\n",
       "    <tr>\n",
       "      <th>1</th>\n",
       "      <td>2</td>\n",
       "      <td>Movie Synopsis</td>\n",
       "      <td>In a world ravaged by climate change, a group ...</td>\n",
       "    </tr>\n",
       "    <tr>\n",
       "      <th>2</th>\n",
       "      <td>3</td>\n",
       "      <td>News Article</td>\n",
       "      <td>The city council approved the new public trans...</td>\n",
       "    </tr>\n",
       "    <tr>\n",
       "      <th>3</th>\n",
       "      <td>4</td>\n",
       "      <td>Recipe</td>\n",
       "      <td>Preheat the oven to 375°F. Mix flour, sugar, a...</td>\n",
       "    </tr>\n",
       "    <tr>\n",
       "      <th>4</th>\n",
       "      <td>5</td>\n",
       "      <td>Travel Guide</td>\n",
       "      <td>Discover the hidden gems of Kyoto, from tranqu...</td>\n",
       "    </tr>\n",
       "    <tr>\n",
       "      <th>5</th>\n",
       "      <td>6</td>\n",
       "      <td>Scientific Abstract</td>\n",
       "      <td>This study investigates the effects of micropl...</td>\n",
       "    </tr>\n",
       "    <tr>\n",
       "      <th>6</th>\n",
       "      <td>7</td>\n",
       "      <td>Book Review</td>\n",
       "      <td>An evocative tale of love and loss, 'The Silen...</td>\n",
       "    </tr>\n",
       "    <tr>\n",
       "      <th>7</th>\n",
       "      <td>8</td>\n",
       "      <td>Job Posting</td>\n",
       "      <td>Looking for a skilled software engineer profic...</td>\n",
       "    </tr>\n",
       "    <tr>\n",
       "      <th>8</th>\n",
       "      <td>9</td>\n",
       "      <td>User Manual</td>\n",
       "      <td>To reset your device, hold the power button fo...</td>\n",
       "    </tr>\n",
       "    <tr>\n",
       "      <th>9</th>\n",
       "      <td>10</td>\n",
       "      <td>Historical Event</td>\n",
       "      <td>The Berlin Wall, constructed in 1961, symboliz...</td>\n",
       "    </tr>\n",
       "    <tr>\n",
       "      <th>10</th>\n",
       "      <td>11</td>\n",
       "      <td>Customer Review</td>\n",
       "      <td>The blender exceeded my expectations with its ...</td>\n",
       "    </tr>\n",
       "    <tr>\n",
       "      <th>11</th>\n",
       "      <td>12</td>\n",
       "      <td>Health &amp; Fitness</td>\n",
       "      <td>Regular cardio workouts not only improve heart...</td>\n",
       "    </tr>\n",
       "    <tr>\n",
       "      <th>12</th>\n",
       "      <td>13</td>\n",
       "      <td>Legal Document</td>\n",
       "      <td>This agreement is entered into by and between ...</td>\n",
       "    </tr>\n",
       "    <tr>\n",
       "      <th>13</th>\n",
       "      <td>14</td>\n",
       "      <td>E-commerce FAQ</td>\n",
       "      <td>Q: Does this jacket have waterproof capabiliti...</td>\n",
       "    </tr>\n",
       "    <tr>\n",
       "      <th>14</th>\n",
       "      <td>15</td>\n",
       "      <td>Educational Content</td>\n",
       "      <td>Photosynthesis is the process by which green p...</td>\n",
       "    </tr>\n",
       "  </tbody>\n",
       "</table>\n",
       "</div>"
      ],
      "text/plain": [
       "    id             category                                               text\n",
       "0    1  Product Description  Experience unparalleled sound quality with the...\n",
       "1    2       Movie Synopsis  In a world ravaged by climate change, a group ...\n",
       "2    3         News Article  The city council approved the new public trans...\n",
       "3    4               Recipe  Preheat the oven to 375°F. Mix flour, sugar, a...\n",
       "4    5         Travel Guide  Discover the hidden gems of Kyoto, from tranqu...\n",
       "5    6  Scientific Abstract  This study investigates the effects of micropl...\n",
       "6    7          Book Review  An evocative tale of love and loss, 'The Silen...\n",
       "7    8          Job Posting  Looking for a skilled software engineer profic...\n",
       "8    9          User Manual  To reset your device, hold the power button fo...\n",
       "9   10     Historical Event  The Berlin Wall, constructed in 1961, symboliz...\n",
       "10  11      Customer Review  The blender exceeded my expectations with its ...\n",
       "11  12     Health & Fitness  Regular cardio workouts not only improve heart...\n",
       "12  13       Legal Document  This agreement is entered into by and between ...\n",
       "13  14       E-commerce FAQ  Q: Does this jacket have waterproof capabiliti...\n",
       "14  15  Educational Content  Photosynthesis is the process by which green p..."
      ]
     },
     "execution_count": 9,
     "metadata": {},
     "output_type": "execute_result"
    }
   ],
   "source": [
    "synth_df = pd.read_csv(os.path.join(os.getcwd(), \"../data/synthetic_data.csv\"), index_col = 0)\n",
    "synth_df\n"
   ]
  },
  {
   "cell_type": "markdown",
   "id": "3544af2e",
   "metadata": {},
   "source": [
    "## Bag of words"
   ]
  },
  {
   "cell_type": "code",
   "execution_count": 10,
   "id": "9e5a4e9d",
   "metadata": {},
   "outputs": [],
   "source": [
    "import re\n",
    "from typing import List\n",
    "\n",
    "def tokenize(text:str) -> List[str]:\n",
    "    # Remove punctuation using regex, keeping words and numbers\n",
    "    cleaned_text = re.sub(r\"[^\\w\\s]\", \"\", text)\n",
    "    # Split the cleaned text into words\n",
    "    tokens = cleaned_text.lower().split()\n",
    "    return tokens"
   ]
  },
  {
   "cell_type": "code",
   "execution_count": 86,
   "id": "9eb01c93",
   "metadata": {},
   "outputs": [
    {
     "name": "stdout",
     "output_type": "stream",
     "text": [
      "Cleaned text data length: 15 \n",
      "Texts_corpus length: 227\n"
     ]
    }
   ],
   "source": [
    "texts = synth_df[\"text\"].tolist()\n",
    "\n",
    "cleaned_texts_list = []\n",
    "\n",
    "for text in texts:\n",
    "    #print(text)\n",
    "    cleaned_text = tokenize(text)\n",
    "    #print(cleaned_text)\n",
    "    cleaned_texts_list.append(cleaned_text)\n",
    "    \n",
    "cleaned_texts_list\n",
    "\n",
    "cleaned_sentences_list = []\n",
    "for text_list in cleaned_texts_list:\n",
    "    sentence_list = \" \".join(text_list)\n",
    "    cleaned_sentences_list.append(sentence_list)\n",
    "cleaned_sentences_list\n",
    "\n",
    "cleaned_texts_list_flattened = [word for sentence in cleaned_texts_list for word in sentence]\n",
    "\n",
    "texts_corpus = set(cleaned_texts_list_flattened)\n",
    "\n",
    "print(f\"Cleaned text data length: {len(cleaned_texts_list)} \\nTexts_corpus length: {len(texts_corpus)}\")\n",
    "\n"
   ]
  },
  {
   "cell_type": "code",
   "execution_count": 108,
   "id": "30b69a74",
   "metadata": {},
   "outputs": [],
   "source": [
    "word_counts_texts = {}\n",
    "for sentence in cleaned_sentences_list:\n",
    "    word_counts_texts[sentence] = dict.fromkeys(texts_corpus,0)\n",
    "    \n",
    "for sentence in cleaned_texts_list:\n",
    "    key = \" \".join(sentence)\n",
    "    #print(sentence)\n",
    "    for word in sentence:\n",
    "        word_counts_texts[key][word]+=1     \n",
    "    \n",
    "word_frequencies = pd.DataFrame(word_counts_texts)"
   ]
  },
  {
   "cell_type": "markdown",
   "id": "1cc42de9",
   "metadata": {},
   "source": [
    "## TF"
   ]
  },
  {
   "cell_type": "code",
   "execution_count": 110,
   "id": "a33f459c",
   "metadata": {},
   "outputs": [
    {
     "data": {
      "text/plain": [
       "{'yesterday': 0.0,\n",
       " 'it': 0.0,\n",
       " 'producing': 0.0,\n",
       " 'eggs': 0.0,\n",
       " 'waterproof': 0.0,\n",
       " 'plan': 0.0,\n",
       " 'aiming': 0.0,\n",
       " 'does': 0.0,\n",
       " 'b': 0.0,\n",
       " 'transportation': 0.0,\n",
       " 'power': 0.0,\n",
       " 'coral': 0.0,\n",
       " 'my': 0.0,\n",
       " 'from': 0.0,\n",
       " 'new': 0.0,\n",
       " 'process': 0.0,\n",
       " 'battery': 0.005952380952380952,\n",
       " 'climate': 0.0,\n",
       " 'symbolized': 0.0,\n",
       " 'conditions': 0.0,\n",
       " 'blender': 0.0,\n",
       " 'fresh': 0.0,\n",
       " 'button': 0.0,\n",
       " 'with': 0.005952380952380952,\n",
       " 'division': 0.0,\n",
       " 'a': 0.0,\n",
       " 'study': 0.0,\n",
       " 'horizon': 0.0,\n",
       " 'life': 0.005952380952380952,\n",
       " 'public': 0.0,\n",
       " 'human': 0.0,\n",
       " 'exceeded': 0.0,\n",
       " 'terms': 0.0,\n",
       " 'only': 0.0,\n",
       " 'sound': 0.005952380952380952,\n",
       " 'revealing': 0.0,\n",
       " 'before': 0.0,\n",
       " 'breathable': 0.0,\n",
       " 'in': 0.0,\n",
       " 'your': 0.0,\n",
       " 'soups': 0.0,\n",
       " 'reunification': 0.0,\n",
       " 'japanese': 0.0,\n",
       " 'device': 0.0,\n",
       " 'software': 0.0,\n",
       " '12hour': 0.005952380952380952,\n",
       " 'experience': 0.005952380952380952,\n",
       " 'significant': 0.0,\n",
       " 'wait': 0.0,\n",
       " 'chemical': 0.0,\n",
       " 'fold': 0.0,\n",
       " 'cancellation': 0.005952380952380952,\n",
       " 'preheat': 0.0,\n",
       " 'evocative': 0.0,\n",
       " 'tale': 0.0,\n",
       " 'have': 0.0,\n",
       " 'microplastic': 0.0,\n",
       " 'seconds': 0.0,\n",
       " 'constructed': 0.0,\n",
       " 'sunlight': 0.0,\n",
       " 'aidriven': 0.0,\n",
       " 'to': 0.0,\n",
       " 'wireless': 0.005952380952380952,\n",
       " 'energy': 0.0,\n",
       " 'focused': 0.0,\n",
       " 'reset': 0.0,\n",
       " 'powerful': 0.0,\n",
       " 'emissions': 0.0,\n",
       " 'this': 0.0,\n",
       " 'system': 0.0,\n",
       " 'vivid': 0.0,\n",
       " 'fastpaced': 0.0,\n",
       " 'marine': 0.0,\n",
       " 'berlin': 0.0,\n",
       " 'journey': 0.0,\n",
       " '1961': 0.0,\n",
       " 'healthcare': 0.0,\n",
       " 'cold': 0.0,\n",
       " 'cardio': 0.0,\n",
       " 'entered': 0.0,\n",
       " 'improve': 0.0,\n",
       " '2030': 0.0,\n",
       " 'pollution': 0.0,\n",
       " 'culture': 0.0,\n",
       " 'of': 0.0,\n",
       " 'congestion': 0.0,\n",
       " 'then': 0.0,\n",
       " 'stress': 0.0,\n",
       " 'q': 0.0,\n",
       " 'byproduct': 0.0,\n",
       " 'clarity': 0.0,\n",
       " 'bowl': 0.0,\n",
       " 'wall': 0.0,\n",
       " 'hidden': 0.0,\n",
       " 'carbon': 0.0,\n",
       " 'kyoto': 0.0,\n",
       " 'impacts': 0.0,\n",
       " 'skilled': 0.0,\n",
       " 'solutions': 0.0,\n",
       " 'world': 0.0,\n",
       " 'east': 0.0,\n",
       " 'easytoclean': 0.0,\n",
       " 'workouts': 0.005952380952380952,\n",
       " 'suitable': 0.0,\n",
       " 'looking': 0.0,\n",
       " 'unlikely': 0.0,\n",
       " 'war': 0.0,\n",
       " 'health': 0.0,\n",
       " 'purpose': 0.0,\n",
       " 'unparalleled': 0.005952380952380952,\n",
       " 'group': 0.0,\n",
       " '1989': 0.0,\n",
       " 'join': 0.0,\n",
       " 'heart': 0.0,\n",
       " 'or': 0.0,\n",
       " 'an': 0.005952380952380952,\n",
       " 'city': 0.0,\n",
       " 'plants': 0.0,\n",
       " 'yes': 0.0,\n",
       " 'and': 0.005952380952380952,\n",
       " 'markets': 0.0,\n",
       " 'mix': 0.0,\n",
       " 'ecosystems': 0.0,\n",
       " 'reduce': 0.0,\n",
       " 'indicator': 0.0,\n",
       " 'which': 0.0,\n",
       " 'silent': 0.0,\n",
       " 'oven': 0.0,\n",
       " 'by': 0.0,\n",
       " 'cloud': 0.0,\n",
       " 'reboot': 0.0,\n",
       " 'photosynthesis': 0.0,\n",
       " 'minutes': 0.0,\n",
       " 'boost': 0.0,\n",
       " 'council': 0.0,\n",
       " 'prose': 0.0,\n",
       " 'computing': 0.0,\n",
       " 'its': 0.0,\n",
       " 'flour': 0.0,\n",
       " 'biodiversity': 0.0,\n",
       " 'noise': 0.005952380952380952,\n",
       " 'bake': 0.0,\n",
       " 'humanity': 0.0,\n",
       " 'levels': 0.0,\n",
       " 'regular': 0.0,\n",
       " 'smoothies': 0.0,\n",
       " 'design': 0.005952380952380952,\n",
       " 'mental': 0.0,\n",
       " 'service': 0.0,\n",
       " 'approved': 0.0,\n",
       " 'lower': 0.0,\n",
       " 'relationships': 0.0,\n",
       " 'python': 0.0,\n",
       " 'startup': 0.0,\n",
       " 'embarks': 0.0,\n",
       " 'bustling': 0.0,\n",
       " 'sparked': 0.0,\n",
       " 'loss': 0.0,\n",
       " 'into': 0.0,\n",
       " 'tranquil': 0.0,\n",
       " 'discover': 0.0,\n",
       " '375f': 0.0,\n",
       " 'expectations': 0.0,\n",
       " 'rain': 0.0,\n",
       " 'the': 0.005952380952380952,\n",
       " 'featuring': 0.005952380952380952,\n",
       " 'temples': 0.0,\n",
       " 'on': 0.0,\n",
       " 'never': 0.0,\n",
       " 'beautifully': 0.0,\n",
       " 'perfect': 0.005952380952380952,\n",
       " 'perilous': 0.0,\n",
       " 'led': 0.0,\n",
       " '10': 0.0,\n",
       " 'fabric': 0.0,\n",
       " 'between': 0.0,\n",
       " 'motor': 0.0,\n",
       " 'green': 0.0,\n",
       " 'change': 0.0,\n",
       " 'also': 0.0,\n",
       " 'party': 0.0,\n",
       " 'effects': 0.0,\n",
       " 'earbuds': 0.005952380952380952,\n",
       " 'gems': 0.0,\n",
       " 'echosphere': 0.005952380952380952,\n",
       " 'heavy': 0.0,\n",
       " 'captures': 0.0,\n",
       " 'extinction': 0.0,\n",
       " 'jacket': 0.0,\n",
       " 'quality': 0.005952380952380952,\n",
       " 'investigates': 0.0,\n",
       " 'oxygen': 0.0,\n",
       " 'sugar': 0.0,\n",
       " 'as': 0.0,\n",
       " 'brown': 0.0,\n",
       " 'authentic': 0.0,\n",
       " 'blueberries': 0.0,\n",
       " 'but': 0.0,\n",
       " 'germany': 0.0,\n",
       " 'hold': 0.0,\n",
       " 'like': 0.0,\n",
       " 'proficient': 0.0,\n",
       " 'ergonomic': 0.005952380952380952,\n",
       " 'west': 0.0,\n",
       " 'flashes': 0.0,\n",
       " 'until': 0.0,\n",
       " 'not': 0.0,\n",
       " 'agreement': 0.0,\n",
       " 'convert': 0.0,\n",
       " 'engineer': 0.0,\n",
       " 'fall': 0.0,\n",
       " 'made': 0.0,\n",
       " 'complexities': 0.0,\n",
       " 'for': 0.005952380952380952,\n",
       " 'heroes': 0.0,\n",
       " 'traffic': 0.0,\n",
       " 'outlining': 0.0,\n",
       " 'reef': 0.0,\n",
       " 'save': 0.0,\n",
       " 'release': 0.0,\n",
       " 'capabilities': 0.0,\n",
       " 'ravaged': 0.0,\n",
       " 'golden': 0.0,\n",
       " 'is': 0.0,\n",
       " '25': 0.0,\n",
       " 'love': 0.0,\n",
       " 'through': 0.0}"
      ]
     },
     "execution_count": 110,
     "metadata": {},
     "output_type": "execute_result"
    }
   ],
   "source": [
    "def tf(word_counts: dict, document: list[str]) -> dict:\n",
    "    \"\"\"Calculate term frequency of each word in a document.\"\"\"\n",
    "\n",
    "    tf_dict = {}\n",
    "    document_corpus_count = len(document)\n",
    "\n",
    "    for word, count in word_counts.items():\n",
    "        tf_dict[word] = count / float(document_corpus_count)\n",
    "\n",
    "    return tf_dict\n",
    "\n",
    "\n",
    "tf(word_frequencies[cleaned_sentences_list[0]], cleaned_sentences_list[0])"
   ]
  },
  {
   "cell_type": "code",
   "execution_count": 122,
   "id": "10eefecf",
   "metadata": {},
   "outputs": [
    {
     "data": {
      "application/vnd.microsoft.datawrangler.viewer.v0+json": {
       "columns": [
        {
         "name": "index",
         "rawType": "int64",
         "type": "integer"
        },
        {
         "name": "yesterday",
         "rawType": "float64",
         "type": "float"
        },
        {
         "name": "it",
         "rawType": "float64",
         "type": "float"
        },
        {
         "name": "producing",
         "rawType": "float64",
         "type": "float"
        },
        {
         "name": "eggs",
         "rawType": "float64",
         "type": "float"
        },
        {
         "name": "waterproof",
         "rawType": "float64",
         "type": "float"
        },
        {
         "name": "plan",
         "rawType": "float64",
         "type": "float"
        },
        {
         "name": "aiming",
         "rawType": "float64",
         "type": "float"
        },
        {
         "name": "does",
         "rawType": "float64",
         "type": "float"
        },
        {
         "name": "b",
         "rawType": "float64",
         "type": "float"
        },
        {
         "name": "transportation",
         "rawType": "float64",
         "type": "float"
        },
        {
         "name": "power",
         "rawType": "float64",
         "type": "float"
        },
        {
         "name": "coral",
         "rawType": "float64",
         "type": "float"
        },
        {
         "name": "my",
         "rawType": "float64",
         "type": "float"
        },
        {
         "name": "from",
         "rawType": "float64",
         "type": "float"
        },
        {
         "name": "new",
         "rawType": "float64",
         "type": "float"
        },
        {
         "name": "process",
         "rawType": "float64",
         "type": "float"
        },
        {
         "name": "battery",
         "rawType": "float64",
         "type": "float"
        },
        {
         "name": "climate",
         "rawType": "float64",
         "type": "float"
        },
        {
         "name": "symbolized",
         "rawType": "float64",
         "type": "float"
        },
        {
         "name": "conditions",
         "rawType": "float64",
         "type": "float"
        },
        {
         "name": "blender",
         "rawType": "float64",
         "type": "float"
        },
        {
         "name": "fresh",
         "rawType": "float64",
         "type": "float"
        },
        {
         "name": "button",
         "rawType": "float64",
         "type": "float"
        },
        {
         "name": "with",
         "rawType": "float64",
         "type": "float"
        },
        {
         "name": "division",
         "rawType": "float64",
         "type": "float"
        },
        {
         "name": "a",
         "rawType": "float64",
         "type": "float"
        },
        {
         "name": "study",
         "rawType": "float64",
         "type": "float"
        },
        {
         "name": "horizon",
         "rawType": "float64",
         "type": "float"
        },
        {
         "name": "life",
         "rawType": "float64",
         "type": "float"
        },
        {
         "name": "public",
         "rawType": "float64",
         "type": "float"
        },
        {
         "name": "human",
         "rawType": "float64",
         "type": "float"
        },
        {
         "name": "exceeded",
         "rawType": "float64",
         "type": "float"
        },
        {
         "name": "terms",
         "rawType": "float64",
         "type": "float"
        },
        {
         "name": "only",
         "rawType": "float64",
         "type": "float"
        },
        {
         "name": "sound",
         "rawType": "float64",
         "type": "float"
        },
        {
         "name": "revealing",
         "rawType": "float64",
         "type": "float"
        },
        {
         "name": "before",
         "rawType": "float64",
         "type": "float"
        },
        {
         "name": "breathable",
         "rawType": "float64",
         "type": "float"
        },
        {
         "name": "in",
         "rawType": "float64",
         "type": "float"
        },
        {
         "name": "your",
         "rawType": "float64",
         "type": "float"
        },
        {
         "name": "soups",
         "rawType": "float64",
         "type": "float"
        },
        {
         "name": "reunification",
         "rawType": "float64",
         "type": "float"
        },
        {
         "name": "japanese",
         "rawType": "float64",
         "type": "float"
        },
        {
         "name": "device",
         "rawType": "float64",
         "type": "float"
        },
        {
         "name": "software",
         "rawType": "float64",
         "type": "float"
        },
        {
         "name": "12hour",
         "rawType": "float64",
         "type": "float"
        },
        {
         "name": "experience",
         "rawType": "float64",
         "type": "float"
        },
        {
         "name": "significant",
         "rawType": "float64",
         "type": "float"
        },
        {
         "name": "wait",
         "rawType": "float64",
         "type": "float"
        },
        {
         "name": "chemical",
         "rawType": "float64",
         "type": "float"
        },
        {
         "name": "fold",
         "rawType": "float64",
         "type": "float"
        },
        {
         "name": "cancellation",
         "rawType": "float64",
         "type": "float"
        },
        {
         "name": "preheat",
         "rawType": "float64",
         "type": "float"
        },
        {
         "name": "evocative",
         "rawType": "float64",
         "type": "float"
        },
        {
         "name": "tale",
         "rawType": "float64",
         "type": "float"
        },
        {
         "name": "have",
         "rawType": "float64",
         "type": "float"
        },
        {
         "name": "microplastic",
         "rawType": "float64",
         "type": "float"
        },
        {
         "name": "seconds",
         "rawType": "float64",
         "type": "float"
        },
        {
         "name": "constructed",
         "rawType": "float64",
         "type": "float"
        },
        {
         "name": "sunlight",
         "rawType": "float64",
         "type": "float"
        },
        {
         "name": "aidriven",
         "rawType": "float64",
         "type": "float"
        },
        {
         "name": "to",
         "rawType": "float64",
         "type": "float"
        },
        {
         "name": "wireless",
         "rawType": "float64",
         "type": "float"
        },
        {
         "name": "energy",
         "rawType": "float64",
         "type": "float"
        },
        {
         "name": "focused",
         "rawType": "float64",
         "type": "float"
        },
        {
         "name": "reset",
         "rawType": "float64",
         "type": "float"
        },
        {
         "name": "powerful",
         "rawType": "float64",
         "type": "float"
        },
        {
         "name": "emissions",
         "rawType": "float64",
         "type": "float"
        },
        {
         "name": "this",
         "rawType": "float64",
         "type": "float"
        },
        {
         "name": "system",
         "rawType": "float64",
         "type": "float"
        },
        {
         "name": "vivid",
         "rawType": "float64",
         "type": "float"
        },
        {
         "name": "fastpaced",
         "rawType": "float64",
         "type": "float"
        },
        {
         "name": "marine",
         "rawType": "float64",
         "type": "float"
        },
        {
         "name": "berlin",
         "rawType": "float64",
         "type": "float"
        },
        {
         "name": "journey",
         "rawType": "float64",
         "type": "float"
        },
        {
         "name": "1961",
         "rawType": "float64",
         "type": "float"
        },
        {
         "name": "healthcare",
         "rawType": "float64",
         "type": "float"
        },
        {
         "name": "cold",
         "rawType": "float64",
         "type": "float"
        },
        {
         "name": "cardio",
         "rawType": "float64",
         "type": "float"
        },
        {
         "name": "entered",
         "rawType": "float64",
         "type": "float"
        },
        {
         "name": "improve",
         "rawType": "float64",
         "type": "float"
        },
        {
         "name": "2030",
         "rawType": "float64",
         "type": "float"
        },
        {
         "name": "pollution",
         "rawType": "float64",
         "type": "float"
        },
        {
         "name": "culture",
         "rawType": "float64",
         "type": "float"
        },
        {
         "name": "of",
         "rawType": "float64",
         "type": "float"
        },
        {
         "name": "congestion",
         "rawType": "float64",
         "type": "float"
        },
        {
         "name": "then",
         "rawType": "float64",
         "type": "float"
        },
        {
         "name": "stress",
         "rawType": "float64",
         "type": "float"
        },
        {
         "name": "q",
         "rawType": "float64",
         "type": "float"
        },
        {
         "name": "byproduct",
         "rawType": "float64",
         "type": "float"
        },
        {
         "name": "clarity",
         "rawType": "float64",
         "type": "float"
        },
        {
         "name": "bowl",
         "rawType": "float64",
         "type": "float"
        },
        {
         "name": "wall",
         "rawType": "float64",
         "type": "float"
        },
        {
         "name": "hidden",
         "rawType": "float64",
         "type": "float"
        },
        {
         "name": "carbon",
         "rawType": "float64",
         "type": "float"
        },
        {
         "name": "kyoto",
         "rawType": "float64",
         "type": "float"
        },
        {
         "name": "impacts",
         "rawType": "float64",
         "type": "float"
        },
        {
         "name": "skilled",
         "rawType": "float64",
         "type": "float"
        },
        {
         "name": "solutions",
         "rawType": "float64",
         "type": "float"
        },
        {
         "name": "world",
         "rawType": "float64",
         "type": "float"
        },
        {
         "name": "east",
         "rawType": "float64",
         "type": "float"
        },
        {
         "name": "easytoclean",
         "rawType": "float64",
         "type": "float"
        },
        {
         "name": "workouts",
         "rawType": "float64",
         "type": "float"
        },
        {
         "name": "suitable",
         "rawType": "float64",
         "type": "float"
        },
        {
         "name": "looking",
         "rawType": "float64",
         "type": "float"
        },
        {
         "name": "unlikely",
         "rawType": "float64",
         "type": "float"
        },
        {
         "name": "war",
         "rawType": "float64",
         "type": "float"
        },
        {
         "name": "health",
         "rawType": "float64",
         "type": "float"
        },
        {
         "name": "purpose",
         "rawType": "float64",
         "type": "float"
        },
        {
         "name": "unparalleled",
         "rawType": "float64",
         "type": "float"
        },
        {
         "name": "group",
         "rawType": "float64",
         "type": "float"
        },
        {
         "name": "1989",
         "rawType": "float64",
         "type": "float"
        },
        {
         "name": "join",
         "rawType": "float64",
         "type": "float"
        },
        {
         "name": "heart",
         "rawType": "float64",
         "type": "float"
        },
        {
         "name": "or",
         "rawType": "float64",
         "type": "float"
        },
        {
         "name": "an",
         "rawType": "float64",
         "type": "float"
        },
        {
         "name": "city",
         "rawType": "float64",
         "type": "float"
        },
        {
         "name": "plants",
         "rawType": "float64",
         "type": "float"
        },
        {
         "name": "yes",
         "rawType": "float64",
         "type": "float"
        },
        {
         "name": "and",
         "rawType": "float64",
         "type": "float"
        },
        {
         "name": "markets",
         "rawType": "float64",
         "type": "float"
        },
        {
         "name": "mix",
         "rawType": "float64",
         "type": "float"
        },
        {
         "name": "ecosystems",
         "rawType": "float64",
         "type": "float"
        },
        {
         "name": "reduce",
         "rawType": "float64",
         "type": "float"
        },
        {
         "name": "indicator",
         "rawType": "float64",
         "type": "float"
        },
        {
         "name": "which",
         "rawType": "float64",
         "type": "float"
        },
        {
         "name": "silent",
         "rawType": "float64",
         "type": "float"
        },
        {
         "name": "oven",
         "rawType": "float64",
         "type": "float"
        },
        {
         "name": "by",
         "rawType": "float64",
         "type": "float"
        },
        {
         "name": "cloud",
         "rawType": "float64",
         "type": "float"
        },
        {
         "name": "reboot",
         "rawType": "float64",
         "type": "float"
        },
        {
         "name": "photosynthesis",
         "rawType": "float64",
         "type": "float"
        },
        {
         "name": "minutes",
         "rawType": "float64",
         "type": "float"
        },
        {
         "name": "boost",
         "rawType": "float64",
         "type": "float"
        },
        {
         "name": "council",
         "rawType": "float64",
         "type": "float"
        },
        {
         "name": "prose",
         "rawType": "float64",
         "type": "float"
        },
        {
         "name": "computing",
         "rawType": "float64",
         "type": "float"
        },
        {
         "name": "its",
         "rawType": "float64",
         "type": "float"
        },
        {
         "name": "flour",
         "rawType": "float64",
         "type": "float"
        },
        {
         "name": "biodiversity",
         "rawType": "float64",
         "type": "float"
        },
        {
         "name": "noise",
         "rawType": "float64",
         "type": "float"
        },
        {
         "name": "bake",
         "rawType": "float64",
         "type": "float"
        },
        {
         "name": "humanity",
         "rawType": "float64",
         "type": "float"
        },
        {
         "name": "levels",
         "rawType": "float64",
         "type": "float"
        },
        {
         "name": "regular",
         "rawType": "float64",
         "type": "float"
        },
        {
         "name": "smoothies",
         "rawType": "float64",
         "type": "float"
        },
        {
         "name": "design",
         "rawType": "float64",
         "type": "float"
        },
        {
         "name": "mental",
         "rawType": "float64",
         "type": "float"
        },
        {
         "name": "service",
         "rawType": "float64",
         "type": "float"
        },
        {
         "name": "approved",
         "rawType": "float64",
         "type": "float"
        },
        {
         "name": "lower",
         "rawType": "float64",
         "type": "float"
        },
        {
         "name": "relationships",
         "rawType": "float64",
         "type": "float"
        },
        {
         "name": "python",
         "rawType": "float64",
         "type": "float"
        },
        {
         "name": "startup",
         "rawType": "float64",
         "type": "float"
        },
        {
         "name": "embarks",
         "rawType": "float64",
         "type": "float"
        },
        {
         "name": "bustling",
         "rawType": "float64",
         "type": "float"
        },
        {
         "name": "sparked",
         "rawType": "float64",
         "type": "float"
        },
        {
         "name": "loss",
         "rawType": "float64",
         "type": "float"
        },
        {
         "name": "into",
         "rawType": "float64",
         "type": "float"
        },
        {
         "name": "tranquil",
         "rawType": "float64",
         "type": "float"
        },
        {
         "name": "discover",
         "rawType": "float64",
         "type": "float"
        },
        {
         "name": "375f",
         "rawType": "float64",
         "type": "float"
        },
        {
         "name": "expectations",
         "rawType": "float64",
         "type": "float"
        },
        {
         "name": "rain",
         "rawType": "float64",
         "type": "float"
        },
        {
         "name": "the",
         "rawType": "float64",
         "type": "float"
        },
        {
         "name": "featuring",
         "rawType": "float64",
         "type": "float"
        },
        {
         "name": "temples",
         "rawType": "float64",
         "type": "float"
        },
        {
         "name": "on",
         "rawType": "float64",
         "type": "float"
        },
        {
         "name": "never",
         "rawType": "float64",
         "type": "float"
        },
        {
         "name": "beautifully",
         "rawType": "float64",
         "type": "float"
        },
        {
         "name": "perfect",
         "rawType": "float64",
         "type": "float"
        },
        {
         "name": "perilous",
         "rawType": "float64",
         "type": "float"
        },
        {
         "name": "led",
         "rawType": "float64",
         "type": "float"
        },
        {
         "name": "10",
         "rawType": "float64",
         "type": "float"
        },
        {
         "name": "fabric",
         "rawType": "float64",
         "type": "float"
        },
        {
         "name": "between",
         "rawType": "float64",
         "type": "float"
        },
        {
         "name": "motor",
         "rawType": "float64",
         "type": "float"
        },
        {
         "name": "green",
         "rawType": "float64",
         "type": "float"
        },
        {
         "name": "change",
         "rawType": "float64",
         "type": "float"
        },
        {
         "name": "also",
         "rawType": "float64",
         "type": "float"
        },
        {
         "name": "party",
         "rawType": "float64",
         "type": "float"
        },
        {
         "name": "effects",
         "rawType": "float64",
         "type": "float"
        },
        {
         "name": "earbuds",
         "rawType": "float64",
         "type": "float"
        },
        {
         "name": "gems",
         "rawType": "float64",
         "type": "float"
        },
        {
         "name": "echosphere",
         "rawType": "float64",
         "type": "float"
        },
        {
         "name": "heavy",
         "rawType": "float64",
         "type": "float"
        },
        {
         "name": "captures",
         "rawType": "float64",
         "type": "float"
        },
        {
         "name": "extinction",
         "rawType": "float64",
         "type": "float"
        },
        {
         "name": "jacket",
         "rawType": "float64",
         "type": "float"
        },
        {
         "name": "quality",
         "rawType": "float64",
         "type": "float"
        },
        {
         "name": "investigates",
         "rawType": "float64",
         "type": "float"
        },
        {
         "name": "oxygen",
         "rawType": "float64",
         "type": "float"
        },
        {
         "name": "sugar",
         "rawType": "float64",
         "type": "float"
        },
        {
         "name": "as",
         "rawType": "float64",
         "type": "float"
        },
        {
         "name": "brown",
         "rawType": "float64",
         "type": "float"
        },
        {
         "name": "authentic",
         "rawType": "float64",
         "type": "float"
        },
        {
         "name": "blueberries",
         "rawType": "float64",
         "type": "float"
        },
        {
         "name": "but",
         "rawType": "float64",
         "type": "float"
        },
        {
         "name": "germany",
         "rawType": "float64",
         "type": "float"
        },
        {
         "name": "hold",
         "rawType": "float64",
         "type": "float"
        },
        {
         "name": "like",
         "rawType": "float64",
         "type": "float"
        },
        {
         "name": "proficient",
         "rawType": "float64",
         "type": "float"
        },
        {
         "name": "ergonomic",
         "rawType": "float64",
         "type": "float"
        },
        {
         "name": "west",
         "rawType": "float64",
         "type": "float"
        },
        {
         "name": "flashes",
         "rawType": "float64",
         "type": "float"
        },
        {
         "name": "until",
         "rawType": "float64",
         "type": "float"
        },
        {
         "name": "not",
         "rawType": "float64",
         "type": "float"
        },
        {
         "name": "agreement",
         "rawType": "float64",
         "type": "float"
        },
        {
         "name": "convert",
         "rawType": "float64",
         "type": "float"
        },
        {
         "name": "engineer",
         "rawType": "float64",
         "type": "float"
        },
        {
         "name": "fall",
         "rawType": "float64",
         "type": "float"
        },
        {
         "name": "made",
         "rawType": "float64",
         "type": "float"
        },
        {
         "name": "complexities",
         "rawType": "float64",
         "type": "float"
        },
        {
         "name": "for",
         "rawType": "float64",
         "type": "float"
        },
        {
         "name": "heroes",
         "rawType": "float64",
         "type": "float"
        },
        {
         "name": "traffic",
         "rawType": "float64",
         "type": "float"
        },
        {
         "name": "outlining",
         "rawType": "float64",
         "type": "float"
        },
        {
         "name": "reef",
         "rawType": "float64",
         "type": "float"
        },
        {
         "name": "save",
         "rawType": "float64",
         "type": "float"
        },
        {
         "name": "release",
         "rawType": "float64",
         "type": "float"
        },
        {
         "name": "capabilities",
         "rawType": "float64",
         "type": "float"
        },
        {
         "name": "ravaged",
         "rawType": "float64",
         "type": "float"
        },
        {
         "name": "golden",
         "rawType": "float64",
         "type": "float"
        },
        {
         "name": "is",
         "rawType": "float64",
         "type": "float"
        },
        {
         "name": "25",
         "rawType": "float64",
         "type": "float"
        },
        {
         "name": "love",
         "rawType": "float64",
         "type": "float"
        },
        {
         "name": "through",
         "rawType": "float64",
         "type": "float"
        }
       ],
       "ref": "8e8004af-bf85-4bcd-af17-55a826bf289a",
       "rows": [
        [
         "0",
         "0.9030899869919435",
         "0.9030899869919435",
         "0.9030899869919435",
         "0.9030899869919435",
         "0.9030899869919435",
         "0.9030899869919435",
         "0.9030899869919435",
         "0.9030899869919435",
         "0.9030899869919435",
         "0.9030899869919435",
         "0.9030899869919435",
         "0.9030899869919435",
         "0.9030899869919435",
         "0.7269987279362623",
         "0.9030899869919435",
         "0.9030899869919435",
         "0.9030899869919435",
         "0.9030899869919435",
         "0.9030899869919435",
         "0.9030899869919435",
         "0.9030899869919435",
         "0.9030899869919435",
         "0.9030899869919435",
         "0.6020599913279624",
         "0.9030899869919435",
         "0.3590219426416679",
         "0.9030899869919435",
         "0.9030899869919435",
         "0.9030899869919435",
         "0.9030899869919435",
         "0.9030899869919435",
         "0.9030899869919435",
         "0.9030899869919435",
         "0.9030899869919435",
         "0.9030899869919435",
         "0.9030899869919435",
         "0.9030899869919435",
         "0.9030899869919435",
         "0.505149978319906",
         "0.9030899869919435",
         "0.9030899869919435",
         "0.9030899869919435",
         "0.9030899869919435",
         "0.9030899869919435",
         "0.9030899869919435",
         "0.9030899869919435",
         "0.7269987279362623",
         "0.9030899869919435",
         "0.9030899869919435",
         "0.9030899869919435",
         "0.9030899869919435",
         "0.9030899869919435",
         "0.9030899869919435",
         "0.9030899869919435",
         "0.9030899869919435",
         "0.9030899869919435",
         "0.9030899869919435",
         "0.9030899869919435",
         "0.9030899869919435",
         "0.9030899869919435",
         "0.9030899869919435",
         "0.3590219426416679",
         "0.9030899869919435",
         "0.9030899869919435",
         "0.9030899869919435",
         "0.9030899869919435",
         "0.9030899869919435",
         "0.9030899869919435",
         "0.6020599913279624",
         "0.9030899869919435",
         "0.9030899869919435",
         "0.9030899869919435",
         "0.9030899869919435",
         "0.9030899869919435",
         "0.9030899869919435",
         "0.9030899869919435",
         "0.9030899869919435",
         "0.9030899869919435",
         "0.9030899869919435",
         "0.9030899869919435",
         "0.9030899869919435",
         "0.9030899869919435",
         "0.9030899869919435",
         "0.9030899869919435",
         "0.4259687322722811",
         "0.9030899869919435",
         "0.9030899869919435",
         "0.9030899869919435",
         "0.9030899869919435",
         "0.9030899869919435",
         "0.9030899869919435",
         "0.9030899869919435",
         "0.9030899869919435",
         "0.9030899869919435",
         "0.9030899869919435",
         "0.9030899869919435",
         "0.9030899869919435",
         "0.9030899869919435",
         "0.9030899869919435",
         "0.9030899869919435",
         "0.9030899869919435",
         "0.9030899869919435",
         "0.7269987279362623",
         "0.9030899869919435",
         "0.9030899869919435",
         "0.9030899869919435",
         "0.9030899869919435",
         "0.7269987279362623",
         "0.9030899869919435",
         "0.9030899869919435",
         "0.9030899869919435",
         "0.9030899869919435",
         "0.9030899869919435",
         "0.9030899869919435",
         "0.9030899869919435",
         "0.7269987279362623",
         "0.9030899869919435",
         "0.9030899869919435",
         "0.9030899869919435",
         "0.09017663034908803",
         "0.9030899869919435",
         "0.9030899869919435",
         "0.9030899869919435",
         "0.7269987279362623",
         "0.9030899869919435",
         "0.9030899869919435",
         "0.9030899869919435",
         "0.9030899869919435",
         "0.505149978319906",
         "0.9030899869919435",
         "0.9030899869919435",
         "0.9030899869919435",
         "0.9030899869919435",
         "0.9030899869919435",
         "0.9030899869919435",
         "0.9030899869919435",
         "0.9030899869919435",
         "0.7269987279362623",
         "0.9030899869919435",
         "0.9030899869919435",
         "0.9030899869919435",
         "0.9030899869919435",
         "0.9030899869919435",
         "0.9030899869919435",
         "0.9030899869919435",
         "0.9030899869919435",
         "0.7269987279362623",
         "0.9030899869919435",
         "0.9030899869919435",
         "0.9030899869919435",
         "0.9030899869919435",
         "0.9030899869919435",
         "0.9030899869919435",
         "0.9030899869919435",
         "0.9030899869919435",
         "0.9030899869919435",
         "0.9030899869919435",
         "0.9030899869919435",
         "0.7269987279362623",
         "0.9030899869919435",
         "0.9030899869919435",
         "0.9030899869919435",
         "0.9030899869919435",
         "0.9030899869919435",
         "0.12493873660829993",
         "0.9030899869919435",
         "0.9030899869919435",
         "0.6020599913279624",
         "0.9030899869919435",
         "0.9030899869919435",
         "0.7269987279362623",
         "0.9030899869919435",
         "0.9030899869919435",
         "0.9030899869919435",
         "0.9030899869919435",
         "0.7269987279362623",
         "0.9030899869919435",
         "0.9030899869919435",
         "0.9030899869919435",
         "0.9030899869919435",
         "0.9030899869919435",
         "0.9030899869919435",
         "0.9030899869919435",
         "0.9030899869919435",
         "0.9030899869919435",
         "0.9030899869919435",
         "0.9030899869919435",
         "0.9030899869919435",
         "0.9030899869919435",
         "0.9030899869919435",
         "0.9030899869919435",
         "0.9030899869919435",
         "0.9030899869919435",
         "0.9030899869919435",
         "0.9030899869919435",
         "0.9030899869919435",
         "0.9030899869919435",
         "0.9030899869919435",
         "0.9030899869919435",
         "0.9030899869919435",
         "0.9030899869919435",
         "0.9030899869919435",
         "0.9030899869919435",
         "0.9030899869919435",
         "0.9030899869919435",
         "0.6020599913279624",
         "0.9030899869919435",
         "0.9030899869919435",
         "0.9030899869919435",
         "0.9030899869919435",
         "0.9030899869919435",
         "0.9030899869919435",
         "0.9030899869919435",
         "0.3010299956639812",
         "0.9030899869919435",
         "0.9030899869919435",
         "0.9030899869919435",
         "0.9030899869919435",
         "0.9030899869919435",
         "0.9030899869919435",
         "0.9030899869919435",
         "0.9030899869919435",
         "0.9030899869919435",
         "0.6020599913279624",
         "0.9030899869919435",
         "0.9030899869919435",
         "0.9030899869919435"
        ]
       ],
       "shape": {
        "columns": 227,
        "rows": 1
       }
      },
      "text/html": [
       "<div>\n",
       "<style scoped>\n",
       "    .dataframe tbody tr th:only-of-type {\n",
       "        vertical-align: middle;\n",
       "    }\n",
       "\n",
       "    .dataframe tbody tr th {\n",
       "        vertical-align: top;\n",
       "    }\n",
       "\n",
       "    .dataframe thead th {\n",
       "        text-align: right;\n",
       "    }\n",
       "</style>\n",
       "<table border=\"1\" class=\"dataframe\">\n",
       "  <thead>\n",
       "    <tr style=\"text-align: right;\">\n",
       "      <th></th>\n",
       "      <th>yesterday</th>\n",
       "      <th>it</th>\n",
       "      <th>producing</th>\n",
       "      <th>eggs</th>\n",
       "      <th>waterproof</th>\n",
       "      <th>plan</th>\n",
       "      <th>aiming</th>\n",
       "      <th>does</th>\n",
       "      <th>b</th>\n",
       "      <th>transportation</th>\n",
       "      <th>...</th>\n",
       "      <th>reef</th>\n",
       "      <th>save</th>\n",
       "      <th>release</th>\n",
       "      <th>capabilities</th>\n",
       "      <th>ravaged</th>\n",
       "      <th>golden</th>\n",
       "      <th>is</th>\n",
       "      <th>25</th>\n",
       "      <th>love</th>\n",
       "      <th>through</th>\n",
       "    </tr>\n",
       "  </thead>\n",
       "  <tbody>\n",
       "    <tr>\n",
       "      <th>0</th>\n",
       "      <td>0.90309</td>\n",
       "      <td>0.90309</td>\n",
       "      <td>0.90309</td>\n",
       "      <td>0.90309</td>\n",
       "      <td>0.90309</td>\n",
       "      <td>0.90309</td>\n",
       "      <td>0.90309</td>\n",
       "      <td>0.90309</td>\n",
       "      <td>0.90309</td>\n",
       "      <td>0.90309</td>\n",
       "      <td>...</td>\n",
       "      <td>0.90309</td>\n",
       "      <td>0.90309</td>\n",
       "      <td>0.90309</td>\n",
       "      <td>0.90309</td>\n",
       "      <td>0.90309</td>\n",
       "      <td>0.90309</td>\n",
       "      <td>0.60206</td>\n",
       "      <td>0.90309</td>\n",
       "      <td>0.90309</td>\n",
       "      <td>0.90309</td>\n",
       "    </tr>\n",
       "  </tbody>\n",
       "</table>\n",
       "<p>1 rows × 227 columns</p>\n",
       "</div>"
      ],
      "text/plain": [
       "   yesterday       it  producing     eggs  waterproof     plan   aiming  \\\n",
       "0    0.90309  0.90309    0.90309  0.90309     0.90309  0.90309  0.90309   \n",
       "\n",
       "      does        b  transportation  ...     reef     save  release  \\\n",
       "0  0.90309  0.90309         0.90309  ...  0.90309  0.90309  0.90309   \n",
       "\n",
       "   capabilities  ravaged   golden       is       25     love  through  \n",
       "0       0.90309  0.90309  0.90309  0.60206  0.90309  0.90309  0.90309  \n",
       "\n",
       "[1 rows x 227 columns]"
      ]
     },
     "execution_count": 122,
     "metadata": {},
     "output_type": "execute_result"
    }
   ],
   "source": [
    "import numpy as np\n",
    "word_counts_texts_dict_list = []\n",
    "for key, value in word_counts_texts.items():\n",
    "    word_counts_texts_dict_list.append(value)\n",
    "    \n",
    "N = len(word_counts_texts_dict_list)\n",
    "\n",
    "idf_dict = dict.fromkeys(word_counts_texts_dict_list[0].keys(), 0)\n",
    "\n",
    "for word in idf_dict:\n",
    "    idf_dict[word] = sum(doc[word] > 0 for doc in word_counts_texts_dict_list)\n",
    "\n",
    "for word, df in idf_dict.items():\n",
    "    idf_dict[word] = np.log10((N + 1.0) / (df + 1.0))\n",
    "    \n",
    "pd.DataFrame([idf_dict])\n",
    "    \n"
   ]
  },
  {
   "cell_type": "code",
   "execution_count": null,
   "id": "26e34aa0",
   "metadata": {},
   "outputs": [],
   "source": [
    "import numpy as np\n",
    "\n",
    "\n",
    "def idf(word_counts: list[dict[str, int]]) -> dict:\n",
    "    \"\"\"Given N documents, no. of documents in which the the term appears for each term\"\"\"\n",
    "    idf_dict = {}\n",
    "    N = len(word_counts)\n",
    "\n",
    "    idf_dict = dict.fromkeys(word_counts[0].keys(), 0)\n",
    "\n",
    "    for word in idf_dict.keys():\n",
    "        idf_dict[word] = sum(doc[word] > 0 for doc in word_counts)\n",
    "\n",
    "    for word, df in idf_dict.items():\n",
    "        idf_dict[word] = np.log10((N + 1.0) / (df + 1.0))\n",
    "\n",
    "    return idf_dict\n",
    "\n",
    "\n",
    "idfs = idf([word_count_a, word_count_b])\n",
    "idfs"
   ]
  }
 ],
 "metadata": {
  "kernelspec": {
   "display_name": ".venv",
   "language": "python",
   "name": "python3"
  },
  "language_info": {
   "codemirror_mode": {
    "name": "ipython",
    "version": 3
   },
   "file_extension": ".py",
   "mimetype": "text/x-python",
   "name": "python",
   "nbconvert_exporter": "python",
   "pygments_lexer": "ipython3",
   "version": "3.10.10"
  }
 },
 "nbformat": 4,
 "nbformat_minor": 5
}

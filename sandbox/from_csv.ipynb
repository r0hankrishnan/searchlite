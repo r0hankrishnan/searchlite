{
 "cells": [
  {
   "cell_type": "code",
   "execution_count": 1,
   "id": "9353edc1",
   "metadata": {},
   "outputs": [],
   "source": [
    "from searchlite.document import Document\n",
    "import pandas as pd\n",
    "import os"
   ]
  },
  {
   "cell_type": "code",
   "execution_count": 2,
   "id": "222cabf7",
   "metadata": {},
   "outputs": [],
   "source": [
    "df = pd.read_csv(os.path.join(os.getcwd(), \"../data/synthetic_data.csv\"), index_col = 0)"
   ]
  },
  {
   "cell_type": "code",
   "execution_count": 3,
   "id": "54943ca9",
   "metadata": {},
   "outputs": [],
   "source": [
    "texts = df[\"text\"]\n",
    "metadata = df[[\"id\", \"category\"]].to_dict(orient = \"records\")"
   ]
  },
  {
   "cell_type": "code",
   "execution_count": 4,
   "id": "8e305162",
   "metadata": {},
   "outputs": [
    {
     "data": {
      "text/plain": [
       "0     Experience unparalleled sound quality with the...\n",
       "1     In a world ravaged by climate change, a group ...\n",
       "2     The city council approved the new public trans...\n",
       "3     Preheat the oven to 375°F. Mix flour, sugar, a...\n",
       "4     Discover the hidden gems of Kyoto, from tranqu...\n",
       "5     This study investigates the effects of micropl...\n",
       "6     An evocative tale of love and loss, 'The Silen...\n",
       "7     Looking for a skilled software engineer profic...\n",
       "8     To reset your device, hold the power button fo...\n",
       "9     The Berlin Wall, constructed in 1961, symboliz...\n",
       "10    The blender exceeded my expectations with its ...\n",
       "11    Regular cardio workouts not only improve heart...\n",
       "12    This agreement is entered into by and between ...\n",
       "13    Q: Does this jacket have waterproof capabiliti...\n",
       "14    Photosynthesis is the process by which green p...\n",
       "Name: text, dtype: object"
      ]
     },
     "execution_count": 4,
     "metadata": {},
     "output_type": "execute_result"
    }
   ],
   "source": [
    "texts"
   ]
  },
  {
   "cell_type": "code",
   "execution_count": 5,
   "id": "09762551",
   "metadata": {},
   "outputs": [
    {
     "data": {
      "text/plain": [
       "[{'id': 1, 'category': 'Product Description'},\n",
       " {'id': 2, 'category': 'Movie Synopsis'},\n",
       " {'id': 3, 'category': 'News Article'},\n",
       " {'id': 4, 'category': 'Recipe'},\n",
       " {'id': 5, 'category': 'Travel Guide'},\n",
       " {'id': 6, 'category': 'Scientific Abstract'},\n",
       " {'id': 7, 'category': 'Book Review'},\n",
       " {'id': 8, 'category': 'Job Posting'},\n",
       " {'id': 9, 'category': 'User Manual'},\n",
       " {'id': 10, 'category': 'Historical Event'},\n",
       " {'id': 11, 'category': 'Customer Review'},\n",
       " {'id': 12, 'category': 'Health & Fitness'},\n",
       " {'id': 13, 'category': 'Legal Document'},\n",
       " {'id': 14, 'category': 'E-commerce FAQ'},\n",
       " {'id': 15, 'category': 'Educational Content'}]"
      ]
     },
     "execution_count": 5,
     "metadata": {},
     "output_type": "execute_result"
    }
   ],
   "source": [
    "metadata"
   ]
  },
  {
   "cell_type": "code",
   "execution_count": 6,
   "id": "16b4e2b4",
   "metadata": {},
   "outputs": [],
   "source": [
    "doc = Document(texts = texts, metadata = metadata)"
   ]
  },
  {
   "cell_type": "code",
   "execution_count": 7,
   "id": "bd181ea7",
   "metadata": {},
   "outputs": [
    {
     "data": {
      "text/plain": [
       "['Experience unparalleled sound quality with the EchoSphere wireless earbuds, featuring noise cancellation, 12-hour battery life, and an ergonomic design perfect for workouts.',\n",
       " 'In a world ravaged by climate change, a group of unlikely heroes embarks on a perilous journey to save humanity from extinction.',\n",
       " 'The city council approved the new public transportation plan yesterday, aiming to reduce traffic congestion and lower carbon emissions by 2030.',\n",
       " 'Preheat the oven to 375°F. Mix flour, sugar, and eggs in a bowl, then fold in fresh blueberries. Bake for 25 minutes or until golden brown.',\n",
       " 'Discover the hidden gems of Kyoto, from tranquil temples to bustling markets, and experience authentic Japanese culture like never before.',\n",
       " 'This study investigates the effects of microplastic pollution on marine ecosystems, revealing significant impacts on coral reef health and biodiversity.',\n",
       " \"An evocative tale of love and loss, 'The Silent Horizon' beautifully captures the complexities of human relationships through vivid prose.\",\n",
       " 'Looking for a skilled software engineer proficient in Python and cloud computing to join a fast-paced startup focused on AI-driven healthcare solutions.',\n",
       " 'To reset your device, hold the power button for 10 seconds until the LED indicator flashes. Release the button and wait for the system reboot.',\n",
       " 'The Berlin Wall, constructed in 1961, symbolized the Cold War division between East and West Germany until its fall in 1989 sparked reunification.',\n",
       " 'The blender exceeded my expectations with its powerful motor and easy-to-clean design. Perfect for smoothies and soups!',\n",
       " 'Regular cardio workouts not only improve heart health but also boost mental clarity and reduce stress levels.',\n",
       " 'This agreement is entered into by and between Party A and Party B for the purpose of outlining the terms and conditions of service.',\n",
       " 'Q: Does this jacket have waterproof capabilities? A: Yes, it is made with breathable waterproof fabric suitable for heavy rain.',\n",
       " 'Photosynthesis is the process by which green plants convert sunlight into chemical energy, producing oxygen as a byproduct.']"
      ]
     },
     "execution_count": 7,
     "metadata": {},
     "output_type": "execute_result"
    }
   ],
   "source": [
    "doc.texts"
   ]
  },
  {
   "cell_type": "code",
   "execution_count": 8,
   "id": "b9b1a6ad",
   "metadata": {},
   "outputs": [],
   "source": [
    "doc_from_csv = Document.from_csv(os.path.join(os.getcwd(), \"../data/synthetic_data.csv\"), text_columns = \"text\", \n",
    "                  metadata_columns = [\"id\", \"category\"])"
   ]
  },
  {
   "cell_type": "code",
   "execution_count": 9,
   "id": "996fe81a",
   "metadata": {},
   "outputs": [
    {
     "data": {
      "text/plain": [
       "['Experience unparalleled sound quality with the EchoSphere wireless earbuds, featuring noise cancellation, 12-hour battery life, and an ergonomic design perfect for workouts.',\n",
       " 'In a world ravaged by climate change, a group of unlikely heroes embarks on a perilous journey to save humanity from extinction.',\n",
       " 'The city council approved the new public transportation plan yesterday, aiming to reduce traffic congestion and lower carbon emissions by 2030.',\n",
       " 'Preheat the oven to 375°F. Mix flour, sugar, and eggs in a bowl, then fold in fresh blueberries. Bake for 25 minutes or until golden brown.',\n",
       " 'Discover the hidden gems of Kyoto, from tranquil temples to bustling markets, and experience authentic Japanese culture like never before.',\n",
       " 'This study investigates the effects of microplastic pollution on marine ecosystems, revealing significant impacts on coral reef health and biodiversity.',\n",
       " \"An evocative tale of love and loss, 'The Silent Horizon' beautifully captures the complexities of human relationships through vivid prose.\",\n",
       " 'Looking for a skilled software engineer proficient in Python and cloud computing to join a fast-paced startup focused on AI-driven healthcare solutions.',\n",
       " 'To reset your device, hold the power button for 10 seconds until the LED indicator flashes. Release the button and wait for the system reboot.',\n",
       " 'The Berlin Wall, constructed in 1961, symbolized the Cold War division between East and West Germany until its fall in 1989 sparked reunification.',\n",
       " 'The blender exceeded my expectations with its powerful motor and easy-to-clean design. Perfect for smoothies and soups!',\n",
       " 'Regular cardio workouts not only improve heart health but also boost mental clarity and reduce stress levels.',\n",
       " 'This agreement is entered into by and between Party A and Party B for the purpose of outlining the terms and conditions of service.',\n",
       " 'Q: Does this jacket have waterproof capabilities? A: Yes, it is made with breathable waterproof fabric suitable for heavy rain.',\n",
       " 'Photosynthesis is the process by which green plants convert sunlight into chemical energy, producing oxygen as a byproduct.']"
      ]
     },
     "execution_count": 9,
     "metadata": {},
     "output_type": "execute_result"
    }
   ],
   "source": [
    "doc_from_csv.texts"
   ]
  },
  {
   "cell_type": "code",
   "execution_count": 10,
   "id": "b41bd506",
   "metadata": {},
   "outputs": [
    {
     "data": {
      "text/plain": [
       "[{'id': 1, 'category': 'Product Description'},\n",
       " {'id': 2, 'category': 'Movie Synopsis'},\n",
       " {'id': 3, 'category': 'News Article'},\n",
       " {'id': 4, 'category': 'Recipe'},\n",
       " {'id': 5, 'category': 'Travel Guide'},\n",
       " {'id': 6, 'category': 'Scientific Abstract'},\n",
       " {'id': 7, 'category': 'Book Review'},\n",
       " {'id': 8, 'category': 'Job Posting'},\n",
       " {'id': 9, 'category': 'User Manual'},\n",
       " {'id': 10, 'category': 'Historical Event'},\n",
       " {'id': 11, 'category': 'Customer Review'},\n",
       " {'id': 12, 'category': 'Health & Fitness'},\n",
       " {'id': 13, 'category': 'Legal Document'},\n",
       " {'id': 14, 'category': 'E-commerce FAQ'},\n",
       " {'id': 15, 'category': 'Educational Content'}]"
      ]
     },
     "execution_count": 10,
     "metadata": {},
     "output_type": "execute_result"
    }
   ],
   "source": [
    "doc_from_csv.metadata"
   ]
  },
  {
   "cell_type": "code",
   "execution_count": 11,
   "id": "6dd72755",
   "metadata": {},
   "outputs": [
    {
     "data": {
      "text/plain": [
       "True"
      ]
     },
     "execution_count": 11,
     "metadata": {},
     "output_type": "execute_result"
    }
   ],
   "source": [
    "set(doc.texts) == set(doc_from_csv.texts)"
   ]
  },
  {
   "cell_type": "code",
   "execution_count": 12,
   "id": "d50125fe",
   "metadata": {},
   "outputs": [
    {
     "data": {
      "text/plain": [
       "True"
      ]
     },
     "execution_count": 12,
     "metadata": {},
     "output_type": "execute_result"
    }
   ],
   "source": [
    "doc.metadata == doc_from_csv.metadata"
   ]
  },
  {
   "cell_type": "code",
   "execution_count": 13,
   "id": "d71ef0e1",
   "metadata": {},
   "outputs": [],
   "source": [
    "doc.embed()"
   ]
  },
  {
   "cell_type": "code",
   "execution_count": 14,
   "id": "a32115e2",
   "metadata": {},
   "outputs": [
    {
     "data": {
      "text/plain": [
       "[{'id': 1,\n",
       "  'category': 'Product Description',\n",
       "  'text': 'Experience unparalleled sound quality with the EchoSphere wireless earbuds, featuring noise cancellation, 12-hour battery life, and an ergonomic design perfect for workouts.',\n",
       "  'similarity score': 0.22940706653595777},\n",
       " {'id': 15,\n",
       "  'category': 'Educational Content',\n",
       "  'text': 'Photosynthesis is the process by which green plants convert sunlight into chemical energy, producing oxygen as a byproduct.',\n",
       "  'similarity score': 0.0},\n",
       " {'id': 14,\n",
       "  'category': 'E-commerce FAQ',\n",
       "  'text': 'Q: Does this jacket have waterproof capabilities? A: Yes, it is made with breathable waterproof fabric suitable for heavy rain.',\n",
       "  'similarity score': 0.0}]"
      ]
     },
     "execution_count": 14,
     "metadata": {},
     "output_type": "execute_result"
    }
   ],
   "source": [
    "doc.query(\"wireless earphone\")"
   ]
  },
  {
   "cell_type": "code",
   "execution_count": 15,
   "id": "b66d9977",
   "metadata": {},
   "outputs": [],
   "source": [
    "doc_from_csv.embed()"
   ]
  },
  {
   "cell_type": "code",
   "execution_count": 16,
   "id": "254dc89f",
   "metadata": {},
   "outputs": [
    {
     "data": {
      "text/plain": [
       "[{'id': 1,\n",
       "  'category': 'Product Description',\n",
       "  'text': 'Experience unparalleled sound quality with the EchoSphere wireless earbuds, featuring noise cancellation, 12-hour battery life, and an ergonomic design perfect for workouts.',\n",
       "  'similarity score': 0.22940706653595777},\n",
       " {'id': 15,\n",
       "  'category': 'Educational Content',\n",
       "  'text': 'Photosynthesis is the process by which green plants convert sunlight into chemical energy, producing oxygen as a byproduct.',\n",
       "  'similarity score': 0.0},\n",
       " {'id': 14,\n",
       "  'category': 'E-commerce FAQ',\n",
       "  'text': 'Q: Does this jacket have waterproof capabilities? A: Yes, it is made with breathable waterproof fabric suitable for heavy rain.',\n",
       "  'similarity score': 0.0}]"
      ]
     },
     "execution_count": 16,
     "metadata": {},
     "output_type": "execute_result"
    }
   ],
   "source": [
    "doc_from_csv.query(\"wireless earphone\")"
   ]
  },
  {
   "cell_type": "code",
   "execution_count": 17,
   "id": "83212853",
   "metadata": {},
   "outputs": [
    {
     "data": {
      "text/plain": [
       "[{'id': 1, 'category': 'Product Description'},\n",
       " {'id': 2, 'category': 'Movie Synopsis'},\n",
       " {'id': 3, 'category': 'News Article'},\n",
       " {'id': 4, 'category': 'Recipe'},\n",
       " {'id': 5, 'category': 'Travel Guide'},\n",
       " {'id': 6, 'category': 'Scientific Abstract'},\n",
       " {'id': 7, 'category': 'Book Review'},\n",
       " {'id': 8, 'category': 'Job Posting'},\n",
       " {'id': 9, 'category': 'User Manual'},\n",
       " {'id': 10, 'category': 'Historical Event'},\n",
       " {'id': 11, 'category': 'Customer Review'},\n",
       " {'id': 12, 'category': 'Health & Fitness'},\n",
       " {'id': 13, 'category': 'Legal Document'},\n",
       " {'id': 14, 'category': 'E-commerce FAQ'},\n",
       " {'id': 15, 'category': 'Educational Content'}]"
      ]
     },
     "execution_count": 17,
     "metadata": {},
     "output_type": "execute_result"
    }
   ],
   "source": [
    "doc.metadata"
   ]
  },
  {
   "cell_type": "code",
   "execution_count": 18,
   "id": "016d3982",
   "metadata": {},
   "outputs": [
    {
     "data": {
      "text/plain": [
       "[{'id': 1, 'category': 'Product Description'},\n",
       " {'id': 2, 'category': 'Movie Synopsis'},\n",
       " {'id': 3, 'category': 'News Article'},\n",
       " {'id': 4, 'category': 'Recipe'},\n",
       " {'id': 5, 'category': 'Travel Guide'},\n",
       " {'id': 6, 'category': 'Scientific Abstract'},\n",
       " {'id': 7, 'category': 'Book Review'},\n",
       " {'id': 8, 'category': 'Job Posting'},\n",
       " {'id': 9, 'category': 'User Manual'},\n",
       " {'id': 10, 'category': 'Historical Event'},\n",
       " {'id': 11, 'category': 'Customer Review'},\n",
       " {'id': 12, 'category': 'Health & Fitness'},\n",
       " {'id': 13, 'category': 'Legal Document'},\n",
       " {'id': 14, 'category': 'E-commerce FAQ'},\n",
       " {'id': 15, 'category': 'Educational Content'}]"
      ]
     },
     "execution_count": 18,
     "metadata": {},
     "output_type": "execute_result"
    }
   ],
   "source": [
    "doc_from_csv.metadata"
   ]
  }
 ],
 "metadata": {
  "kernelspec": {
   "display_name": ".venv",
   "language": "python",
   "name": "python3"
  },
  "language_info": {
   "codemirror_mode": {
    "name": "ipython",
    "version": 3
   },
   "file_extension": ".py",
   "mimetype": "text/x-python",
   "name": "python",
   "nbconvert_exporter": "python",
   "pygments_lexer": "ipython3",
   "version": "3.10.10"
  }
 },
 "nbformat": 4,
 "nbformat_minor": 5
}

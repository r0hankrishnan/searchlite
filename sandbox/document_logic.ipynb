{
 "cells": [
  {
   "cell_type": "code",
   "execution_count": 2,
   "id": "92a978ea",
   "metadata": {},
   "outputs": [
    {
     "name": "stderr",
     "output_type": "stream",
     "text": [
      "/Users/rohankrishnan/Documents/GitHub/searchlite/searchlite_venv/lib/python3.10/site-packages/tqdm/auto.py:21: TqdmWarning: IProgress not found. Please update jupyter and ipywidgets. See https://ipywidgets.readthedocs.io/en/stable/user_install.html\n",
      "  from .autonotebook import tqdm as notebook_tqdm\n"
     ]
    }
   ],
   "source": [
    "#Imports\n",
    "from sentence_transformers import SentenceTransformer\n",
    "from sklearn.metrics.pairwise import cosine_similarity\n",
    "import numpy as np"
   ]
  },
  {
   "cell_type": "code",
   "execution_count": 3,
   "id": "3cb88e02",
   "metadata": {},
   "outputs": [],
   "source": [
    "# Initialize embedding model\n",
    "model = SentenceTransformer(\"all-MiniLM-L6-v2\")"
   ]
  },
  {
   "cell_type": "code",
   "execution_count": 2,
   "id": "8eea872b",
   "metadata": {},
   "outputs": [],
   "source": [
    "# From Chat GPT - \"Generate a list of realistic sample text that can serve as sample data for a semantic search tool. Write them as a Python dict\"\n",
    "sample_data = [\n",
    "    {\n",
    "        \"id\": 1,\n",
    "        \"category\": \"Product Description\",\n",
    "        \"text\": \"Experience unparalleled sound quality with the EchoSphere wireless earbuds, featuring noise cancellation, 12-hour battery life, and an ergonomic design perfect for workouts.\"\n",
    "    },\n",
    "    {\n",
    "        \"id\": 2,\n",
    "        \"category\": \"Movie Synopsis\",\n",
    "        \"text\": \"In a world ravaged by climate change, a group of unlikely heroes embarks on a perilous journey to save humanity from extinction.\"\n",
    "    },\n",
    "    {\n",
    "        \"id\": 3,\n",
    "        \"category\": \"News Article\",\n",
    "        \"text\": \"The city council approved the new public transportation plan yesterday, aiming to reduce traffic congestion and lower carbon emissions by 2030.\"\n",
    "    },\n",
    "    {\n",
    "        \"id\": 4,\n",
    "        \"category\": \"Recipe\",\n",
    "        \"text\": \"Preheat the oven to 375°F. Mix flour, sugar, and eggs in a bowl, then fold in fresh blueberries. Bake for 25 minutes or until golden brown.\"\n",
    "    },\n",
    "    {\n",
    "        \"id\": 5,\n",
    "        \"category\": \"Travel Guide\",\n",
    "        \"text\": \"Discover the hidden gems of Kyoto, from tranquil temples to bustling markets, and experience authentic Japanese culture like never before.\"\n",
    "    },\n",
    "    {\n",
    "        \"id\": 6,\n",
    "        \"category\": \"Scientific Abstract\",\n",
    "        \"text\": \"This study investigates the effects of microplastic pollution on marine ecosystems, revealing significant impacts on coral reef health and biodiversity.\"\n",
    "    },\n",
    "    {\n",
    "        \"id\": 7,\n",
    "        \"category\": \"Book Review\",\n",
    "        \"text\": \"An evocative tale of love and loss, 'The Silent Horizon' beautifully captures the complexities of human relationships through vivid prose.\"\n",
    "    },\n",
    "    {\n",
    "        \"id\": 8,\n",
    "        \"category\": \"Job Posting\",\n",
    "        \"text\": \"Looking for a skilled software engineer proficient in Python and cloud computing to join a fast-paced startup focused on AI-driven healthcare solutions.\"\n",
    "    },\n",
    "    {\n",
    "        \"id\": 9,\n",
    "        \"category\": \"User Manual\",\n",
    "        \"text\": \"To reset your device, hold the power button for 10 seconds until the LED indicator flashes. Release the button and wait for the system reboot.\"\n",
    "    },\n",
    "    {\n",
    "        \"id\": 10,\n",
    "        \"category\": \"Historical Event\",\n",
    "        \"text\": \"The Berlin Wall, constructed in 1961, symbolized the Cold War division between East and West Germany until its fall in 1989 sparked reunification.\"\n",
    "    },\n",
    "    {\n",
    "        \"id\": 11,\n",
    "        \"category\": \"Customer Review\",\n",
    "        \"text\": \"The blender exceeded my expectations with its powerful motor and easy-to-clean design. Perfect for smoothies and soups!\"\n",
    "    },\n",
    "    {\n",
    "        \"id\": 12,\n",
    "        \"category\": \"Health & Fitness\",\n",
    "        \"text\": \"Regular cardio workouts not only improve heart health but also boost mental clarity and reduce stress levels.\"\n",
    "    },\n",
    "    {\n",
    "        \"id\": 13,\n",
    "        \"category\": \"Legal Document\",\n",
    "        \"text\": \"This agreement is entered into by and between Party A and Party B for the purpose of outlining the terms and conditions of service.\"\n",
    "    },\n",
    "    {\n",
    "        \"id\": 14,\n",
    "        \"category\": \"E-commerce FAQ\",\n",
    "        \"text\": \"Q: Does this jacket have waterproof capabilities? A: Yes, it is made with breathable waterproof fabric suitable for heavy rain.\"\n",
    "    },\n",
    "    {\n",
    "        \"id\": 15,\n",
    "        \"category\": \"Educational Content\",\n",
    "        \"text\": \"Photosynthesis is the process by which green plants convert sunlight into chemical energy, producing oxygen as a byproduct.\"\n",
    "    }\n",
    "]\n",
    "\n",
    "# From Chat GPT - \"Write some sample queries that would help evaluate whether the semantic search tool was working properly\"\n",
    "sample_queries = [\n",
    "    \"wireless earbuds with good battery life\",\n",
    "    \"a movie about climate change and heroes\",\n",
    "    \"latest city plans to reduce traffic and pollution\",\n",
    "    \"how to bake blueberry muffins\",\n",
    "    \"best places to visit in Kyoto\",\n",
    "    \"impact of plastic waste on ocean life\",\n",
    "    \"a novel about love and heartbreak\",\n",
    "    \"job opening for Python developer in healthcare AI\",\n",
    "    \"how to restart a gadget when it freezes\",\n",
    "    \"events leading to the fall of the Berlin Wall\",\n",
    "    \"reviews for powerful and easy-to-clean blender\",\n",
    "    \"tips for improving heart health with exercise\",\n",
    "    \"contract terms between two companies\",\n",
    "    \"does this jacket keep you dry in rain\",\n",
    "    \"process plants use to make energy from sunlight\"\n",
    "]"
   ]
  },
  {
   "cell_type": "code",
   "execution_count": 5,
   "id": "44d20f91",
   "metadata": {},
   "outputs": [],
   "source": [
    "# Extract texts\n",
    "sample_texts = [data[\"text\"] for data in sample_data]"
   ]
  },
  {
   "cell_type": "code",
   "execution_count": 6,
   "id": "62232850",
   "metadata": {},
   "outputs": [],
   "source": [
    "# Generate text embeddings\n",
    "embeddings = model.encode(sample_texts)"
   ]
  },
  {
   "cell_type": "code",
   "execution_count": 8,
   "id": "5b8ea160",
   "metadata": {},
   "outputs": [
    {
     "data": {
      "text/plain": [
       "numpy.ndarray"
      ]
     },
     "execution_count": 8,
     "metadata": {},
     "output_type": "execute_result"
    }
   ],
   "source": [
    "type(embeddings)"
   ]
  },
  {
   "cell_type": "code",
   "execution_count": 12,
   "id": "8a971ce0",
   "metadata": {},
   "outputs": [],
   "source": [
    "# Embed query\n",
    "test_query = sample_queries[0]"
   ]
  },
  {
   "cell_type": "code",
   "execution_count": 13,
   "id": "35310cf8",
   "metadata": {},
   "outputs": [
    {
     "data": {
      "text/plain": [
       "'wireless earbuds with good battery life'"
      ]
     },
     "execution_count": 13,
     "metadata": {},
     "output_type": "execute_result"
    }
   ],
   "source": [
    "test_query #should return embedding index 0"
   ]
  },
  {
   "cell_type": "code",
   "execution_count": 14,
   "id": "35dd5ac4",
   "metadata": {},
   "outputs": [],
   "source": [
    "test_query_embedding = model.encode(test_query)"
   ]
  },
  {
   "cell_type": "code",
   "execution_count": null,
   "id": "12117eaf",
   "metadata": {},
   "outputs": [],
   "source": [
    "similarities = cosine_similarity(X = test_query_embedding.reshape(1,-1), Y = embeddings)"
   ]
  },
  {
   "cell_type": "code",
   "execution_count": 21,
   "id": "fe5fbaa4",
   "metadata": {},
   "outputs": [
    {
     "data": {
      "text/plain": [
       "array([[ 0.6872417 , -0.06613445, -0.00151109,  0.0740163 ,  0.09249084,\n",
       "         0.01730586, -0.05482122, -0.00388624, -0.06451464,  0.03496358,\n",
       "        -0.00553083,  0.03900235, -0.02225405,  0.03706757,  0.04317591]],\n",
       "      dtype=float32)"
      ]
     },
     "execution_count": 21,
     "metadata": {},
     "output_type": "execute_result"
    }
   ],
   "source": [
    "similarities"
   ]
  },
  {
   "cell_type": "code",
   "execution_count": 50,
   "id": "8487aac6",
   "metadata": {},
   "outputs": [
    {
     "data": {
      "text/plain": [
       "[0, 4, 3]"
      ]
     },
     "execution_count": 50,
     "metadata": {},
     "output_type": "execute_result"
    }
   ],
   "source": [
    "#Find top k results - let k = 3\n",
    "np.argsort(similarities).tolist()[0][::-1][0:3]"
   ]
  },
  {
   "cell_type": "code",
   "execution_count": 51,
   "id": "a239101b",
   "metadata": {},
   "outputs": [
    {
     "data": {
      "text/plain": [
       "{'id': 1,\n",
       " 'category': 'Product Description',\n",
       " 'text': 'Experience unparalleled sound quality with the EchoSphere wireless earbuds, featuring noise cancellation, 12-hour battery life, and an ergonomic design perfect for workouts.'}"
      ]
     },
     "execution_count": 51,
     "metadata": {},
     "output_type": "execute_result"
    }
   ],
   "source": [
    "sample_data[0]"
   ]
  },
  {
   "cell_type": "code",
   "execution_count": 3,
   "id": "0085db66",
   "metadata": {},
   "outputs": [],
   "source": [
    "# Modify sample_data to mirror metadata format in Document class\n",
    "sample_metadata = [\n",
    "    {\n",
    "        \"id\": 1,\n",
    "        \"category\": \"Product Description\"\n",
    "    },\n",
    "    {\n",
    "        \"id\": 2,\n",
    "        \"category\": \"Movie Synopsis\"\n",
    "    },\n",
    "    {\n",
    "        \"id\": 3,\n",
    "        \"category\": \"News Article\"\n",
    "    },\n",
    "    {\n",
    "        \"id\": 4,\n",
    "        \"category\": \"Recipe\"\n",
    "    },\n",
    "    {\n",
    "        \"id\": 5,\n",
    "        \"category\": \"Travel Guide\"\n",
    "    },\n",
    "    {\n",
    "        \"id\": 6,\n",
    "        \"category\": \"Scientific Abstract\"\n",
    "    },\n",
    "    {\n",
    "        \"id\": 7,\n",
    "        \"category\": \"Book Review\"\n",
    "    },\n",
    "    {\n",
    "        \"id\": 8,\n",
    "        \"category\": \"Job Posting\"\n",
    "    },\n",
    "    {\n",
    "        \"id\": 9,\n",
    "        \"category\": \"User Manual\"\n",
    "    },\n",
    "    {\n",
    "        \"id\": 10,\n",
    "        \"category\": \"Historical Event\"\n",
    "    },\n",
    "    {\n",
    "        \"id\": 11,\n",
    "        \"category\": \"Customer Review\"\n",
    "    },\n",
    "    {\n",
    "        \"id\": 12,\n",
    "        \"category\": \"Health & Fitness\"\n",
    "    },\n",
    "    {\n",
    "        \"id\": 13,\n",
    "        \"category\": \"Legal Document\"\n",
    "    },\n",
    "    {\n",
    "        \"id\": 14,\n",
    "        \"category\": \"E-commerce FAQ\"\n",
    "    },\n",
    "    {\n",
    "        \"id\": 15,\n",
    "        \"category\": \"Educational Content\"\n",
    "    }\n",
    "]"
   ]
  },
  {
   "cell_type": "code",
   "execution_count": 60,
   "id": "68befba8",
   "metadata": {},
   "outputs": [],
   "source": [
    "# Test filteringa and combining text and metadata\n",
    "top_idxs = np.argsort(similarities).tolist()[0][::-1][0:3]\n",
    "top_texts = [sample_texts[idx] for idx in top_idxs]\n",
    "top_metadata = [sample_metadata[idx] for idx in top_idxs]\n"
   ]
  },
  {
   "cell_type": "code",
   "execution_count": 61,
   "id": "be6da9a8",
   "metadata": {},
   "outputs": [
    {
     "data": {
      "text/plain": [
       "['Experience unparalleled sound quality with the EchoSphere wireless earbuds, featuring noise cancellation, 12-hour battery life, and an ergonomic design perfect for workouts.',\n",
       " 'Discover the hidden gems of Kyoto, from tranquil temples to bustling markets, and experience authentic Japanese culture like never before.',\n",
       " 'Preheat the oven to 375°F. Mix flour, sugar, and eggs in a bowl, then fold in fresh blueberries. Bake for 25 minutes or until golden brown.']"
      ]
     },
     "execution_count": 61,
     "metadata": {},
     "output_type": "execute_result"
    }
   ],
   "source": [
    "top_texts"
   ]
  },
  {
   "cell_type": "code",
   "execution_count": 62,
   "id": "676c49e1",
   "metadata": {},
   "outputs": [
    {
     "data": {
      "text/plain": [
       "[{'id': 1, 'category': 'Product Description'},\n",
       " {'id': 5, 'category': 'Travel Guide'},\n",
       " {'id': 4, 'category': 'Recipe'}]"
      ]
     },
     "execution_count": 62,
     "metadata": {},
     "output_type": "execute_result"
    }
   ],
   "source": [
    "top_metadata"
   ]
  },
  {
   "cell_type": "code",
   "execution_count": 67,
   "id": "fb56771a",
   "metadata": {},
   "outputs": [
    {
     "data": {
      "text/plain": [
       "[{'id': 1,\n",
       "  'category': 'Product Description',\n",
       "  'text': 'Experience unparalleled sound quality with the EchoSphere wireless earbuds, featuring noise cancellation, 12-hour battery life, and an ergonomic design perfect for workouts.'},\n",
       " {'id': 5,\n",
       "  'category': 'Travel Guide',\n",
       "  'text': 'Discover the hidden gems of Kyoto, from tranquil temples to bustling markets, and experience authentic Japanese culture like never before.'},\n",
       " {'id': 4,\n",
       "  'category': 'Recipe',\n",
       "  'text': 'Preheat the oven to 375°F. Mix flour, sugar, and eggs in a bowl, then fold in fresh blueberries. Bake for 25 minutes or until golden brown.'}]"
      ]
     },
     "execution_count": 67,
     "metadata": {},
     "output_type": "execute_result"
    }
   ],
   "source": [
    "for dictionary in top_metadata:\n",
    "    idx = top_metadata.index(dictionary)\n",
    "    dictionary[\"text\"] = top_texts[idx]\n",
    "    \n",
    "top_metadata"
   ]
  },
  {
   "cell_type": "code",
   "execution_count": 68,
   "id": "91b146b0",
   "metadata": {},
   "outputs": [],
   "source": [
    "import pprint"
   ]
  },
  {
   "cell_type": "code",
   "execution_count": 69,
   "id": "60615235",
   "metadata": {},
   "outputs": [
    {
     "name": "stdout",
     "output_type": "stream",
     "text": [
      "[{'category': 'Product Description',\n",
      "  'id': 1,\n",
      "  'text': 'Experience unparalleled sound quality with the EchoSphere wireless '\n",
      "          'earbuds, featuring noise cancellation, 12-hour battery life, and an '\n",
      "          'ergonomic design perfect for workouts.'},\n",
      " {'category': 'Travel Guide',\n",
      "  'id': 5,\n",
      "  'text': 'Discover the hidden gems of Kyoto, from tranquil temples to '\n",
      "          'bustling markets, and experience authentic Japanese culture like '\n",
      "          'never before.'},\n",
      " {'category': 'Recipe',\n",
      "  'id': 4,\n",
      "  'text': 'Preheat the oven to 375°F. Mix flour, sugar, and eggs in a bowl, '\n",
      "          'then fold in fresh blueberries. Bake for 25 minutes or until golden '\n",
      "          'brown.'}]\n"
     ]
    }
   ],
   "source": [
    "# pprint\n",
    "pprint.pprint(top_metadata)"
   ]
  },
  {
   "cell_type": "code",
   "execution_count": 70,
   "id": "2fe4d996",
   "metadata": {},
   "outputs": [],
   "source": [
    "import tabulate"
   ]
  },
  {
   "cell_type": "code",
   "execution_count": 74,
   "id": "fe626605",
   "metadata": {},
   "outputs": [
    {
     "name": "stdout",
     "output_type": "stream",
     "text": [
      "+------+---------------------+-------------------------------------------------------------------------------------------------------------------------------------------------------------------------------+\n",
      "|   id | category            | text                                                                                                                                                                          |\n",
      "+======+=====================+===============================================================================================================================================================================+\n",
      "|    1 | Product Description | Experience unparalleled sound quality with the EchoSphere wireless earbuds, featuring noise cancellation, 12-hour battery life, and an ergonomic design perfect for workouts. |\n",
      "+------+---------------------+-------------------------------------------------------------------------------------------------------------------------------------------------------------------------------+\n",
      "|    5 | Travel Guide        | Discover the hidden gems of Kyoto, from tranquil temples to bustling markets, and experience authentic Japanese culture like never before.                                    |\n",
      "+------+---------------------+-------------------------------------------------------------------------------------------------------------------------------------------------------------------------------+\n",
      "|    4 | Recipe              | Preheat the oven to 375°F. Mix flour, sugar, and eggs in a bowl, then fold in fresh blueberries. Bake for 25 minutes or until golden brown.                                   |\n",
      "+------+---------------------+-------------------------------------------------------------------------------------------------------------------------------------------------------------------------------+\n"
     ]
    }
   ],
   "source": [
    "# tabulate\n",
    "headers = top_metadata[0].keys() # Get headers from the first dictionary\n",
    "rows = [d.values() for d in top_metadata]\n",
    "\n",
    "print(tabulate.tabulate(rows, headers=headers, tablefmt=\"grid\"))"
   ]
  },
  {
   "cell_type": "code",
   "execution_count": 84,
   "id": "a65718b1",
   "metadata": {},
   "outputs": [
    {
     "name": "stdout",
     "output_type": "stream",
     "text": [
      "id: 1 | category: Product Description | text: Experience unparalleled sound quality with the EchoSphere wireless earbuds, featuring noise cancellation, 12-hour battery life, and an ergonomic design perfect for workouts. |  \n",
      "id: 5 | category: Travel Guide | text: Discover the hidden gems of Kyoto, from tranquil temples to bustling markets, and experience authentic Japanese culture like never before. |  \n",
      "id: 4 | category: Recipe | text: Preheat the oven to 375°F. Mix flour, sugar, and eggs in a bowl, then fold in fresh blueberries. Bake for 25 minutes or until golden brown. |  \n"
     ]
    }
   ],
   "source": [
    "# F-string\n",
    "for dictionary in top_metadata:\n",
    "    for key,value in dictionary.items():\n",
    "        print(f\"{key}: {value}\", end=\" | \")\n",
    "    print(\" \")"
   ]
  },
  {
   "cell_type": "code",
   "execution_count": 93,
   "id": "3aa14bed",
   "metadata": {},
   "outputs": [
    {
     "name": "stdout",
     "output_type": "stream",
     "text": [
      "pprint\n"
     ]
    }
   ],
   "source": [
    "options = [\"pprint\", \"tabulate\", \"f-string\"]\n",
    "\n",
    "option = \"pprint\"\n",
    "\n",
    "if option not in options:\n",
    "    opt_list = \", \".join(options)\n",
    "    raise ValueError(f\"expected one of {opt_list}\")\n",
    "else:\n",
    "    print(option)\n"
   ]
  },
  {
   "cell_type": "code",
   "execution_count": 94,
   "id": "28720edb",
   "metadata": {},
   "outputs": [
    {
     "data": {
      "application/vnd.microsoft.datawrangler.viewer.v0+json": {
       "columns": [
        {
         "name": "index",
         "rawType": "int64",
         "type": "integer"
        },
        {
         "name": "id",
         "rawType": "int64",
         "type": "integer"
        },
        {
         "name": "category",
         "rawType": "object",
         "type": "string"
        },
        {
         "name": "text",
         "rawType": "object",
         "type": "string"
        }
       ],
       "ref": "fca13577-afc4-4231-8e5a-5a35e70edf2b",
       "rows": [
        [
         "0",
         "1",
         "Product Description",
         "Experience unparalleled sound quality with the EchoSphere wireless earbuds, featuring noise cancellation, 12-hour battery life, and an ergonomic design perfect for workouts."
        ],
        [
         "1",
         "2",
         "Movie Synopsis",
         "In a world ravaged by climate change, a group of unlikely heroes embarks on a perilous journey to save humanity from extinction."
        ],
        [
         "2",
         "3",
         "News Article",
         "The city council approved the new public transportation plan yesterday, aiming to reduce traffic congestion and lower carbon emissions by 2030."
        ],
        [
         "3",
         "4",
         "Recipe",
         "Preheat the oven to 375°F. Mix flour, sugar, and eggs in a bowl, then fold in fresh blueberries. Bake for 25 minutes or until golden brown."
        ],
        [
         "4",
         "5",
         "Travel Guide",
         "Discover the hidden gems of Kyoto, from tranquil temples to bustling markets, and experience authentic Japanese culture like never before."
        ],
        [
         "5",
         "6",
         "Scientific Abstract",
         "This study investigates the effects of microplastic pollution on marine ecosystems, revealing significant impacts on coral reef health and biodiversity."
        ],
        [
         "6",
         "7",
         "Book Review",
         "An evocative tale of love and loss, 'The Silent Horizon' beautifully captures the complexities of human relationships through vivid prose."
        ],
        [
         "7",
         "8",
         "Job Posting",
         "Looking for a skilled software engineer proficient in Python and cloud computing to join a fast-paced startup focused on AI-driven healthcare solutions."
        ],
        [
         "8",
         "9",
         "User Manual",
         "To reset your device, hold the power button for 10 seconds until the LED indicator flashes. Release the button and wait for the system reboot."
        ],
        [
         "9",
         "10",
         "Historical Event",
         "The Berlin Wall, constructed in 1961, symbolized the Cold War division between East and West Germany until its fall in 1989 sparked reunification."
        ],
        [
         "10",
         "11",
         "Customer Review",
         "The blender exceeded my expectations with its powerful motor and easy-to-clean design. Perfect for smoothies and soups!"
        ],
        [
         "11",
         "12",
         "Health & Fitness",
         "Regular cardio workouts not only improve heart health but also boost mental clarity and reduce stress levels."
        ],
        [
         "12",
         "13",
         "Legal Document",
         "This agreement is entered into by and between Party A and Party B for the purpose of outlining the terms and conditions of service."
        ],
        [
         "13",
         "14",
         "E-commerce FAQ",
         "Q: Does this jacket have waterproof capabilities? A: Yes, it is made with breathable waterproof fabric suitable for heavy rain."
        ],
        [
         "14",
         "15",
         "Educational Content",
         "Photosynthesis is the process by which green plants convert sunlight into chemical energy, producing oxygen as a byproduct."
        ]
       ],
       "shape": {
        "columns": 3,
        "rows": 15
       }
      },
      "text/html": [
       "<div>\n",
       "<style scoped>\n",
       "    .dataframe tbody tr th:only-of-type {\n",
       "        vertical-align: middle;\n",
       "    }\n",
       "\n",
       "    .dataframe tbody tr th {\n",
       "        vertical-align: top;\n",
       "    }\n",
       "\n",
       "    .dataframe thead th {\n",
       "        text-align: right;\n",
       "    }\n",
       "</style>\n",
       "<table border=\"1\" class=\"dataframe\">\n",
       "  <thead>\n",
       "    <tr style=\"text-align: right;\">\n",
       "      <th></th>\n",
       "      <th>id</th>\n",
       "      <th>category</th>\n",
       "      <th>text</th>\n",
       "    </tr>\n",
       "  </thead>\n",
       "  <tbody>\n",
       "    <tr>\n",
       "      <th>0</th>\n",
       "      <td>1</td>\n",
       "      <td>Product Description</td>\n",
       "      <td>Experience unparalleled sound quality with the...</td>\n",
       "    </tr>\n",
       "    <tr>\n",
       "      <th>1</th>\n",
       "      <td>2</td>\n",
       "      <td>Movie Synopsis</td>\n",
       "      <td>In a world ravaged by climate change, a group ...</td>\n",
       "    </tr>\n",
       "    <tr>\n",
       "      <th>2</th>\n",
       "      <td>3</td>\n",
       "      <td>News Article</td>\n",
       "      <td>The city council approved the new public trans...</td>\n",
       "    </tr>\n",
       "    <tr>\n",
       "      <th>3</th>\n",
       "      <td>4</td>\n",
       "      <td>Recipe</td>\n",
       "      <td>Preheat the oven to 375°F. Mix flour, sugar, a...</td>\n",
       "    </tr>\n",
       "    <tr>\n",
       "      <th>4</th>\n",
       "      <td>5</td>\n",
       "      <td>Travel Guide</td>\n",
       "      <td>Discover the hidden gems of Kyoto, from tranqu...</td>\n",
       "    </tr>\n",
       "    <tr>\n",
       "      <th>5</th>\n",
       "      <td>6</td>\n",
       "      <td>Scientific Abstract</td>\n",
       "      <td>This study investigates the effects of micropl...</td>\n",
       "    </tr>\n",
       "    <tr>\n",
       "      <th>6</th>\n",
       "      <td>7</td>\n",
       "      <td>Book Review</td>\n",
       "      <td>An evocative tale of love and loss, 'The Silen...</td>\n",
       "    </tr>\n",
       "    <tr>\n",
       "      <th>7</th>\n",
       "      <td>8</td>\n",
       "      <td>Job Posting</td>\n",
       "      <td>Looking for a skilled software engineer profic...</td>\n",
       "    </tr>\n",
       "    <tr>\n",
       "      <th>8</th>\n",
       "      <td>9</td>\n",
       "      <td>User Manual</td>\n",
       "      <td>To reset your device, hold the power button fo...</td>\n",
       "    </tr>\n",
       "    <tr>\n",
       "      <th>9</th>\n",
       "      <td>10</td>\n",
       "      <td>Historical Event</td>\n",
       "      <td>The Berlin Wall, constructed in 1961, symboliz...</td>\n",
       "    </tr>\n",
       "    <tr>\n",
       "      <th>10</th>\n",
       "      <td>11</td>\n",
       "      <td>Customer Review</td>\n",
       "      <td>The blender exceeded my expectations with its ...</td>\n",
       "    </tr>\n",
       "    <tr>\n",
       "      <th>11</th>\n",
       "      <td>12</td>\n",
       "      <td>Health &amp; Fitness</td>\n",
       "      <td>Regular cardio workouts not only improve heart...</td>\n",
       "    </tr>\n",
       "    <tr>\n",
       "      <th>12</th>\n",
       "      <td>13</td>\n",
       "      <td>Legal Document</td>\n",
       "      <td>This agreement is entered into by and between ...</td>\n",
       "    </tr>\n",
       "    <tr>\n",
       "      <th>13</th>\n",
       "      <td>14</td>\n",
       "      <td>E-commerce FAQ</td>\n",
       "      <td>Q: Does this jacket have waterproof capabiliti...</td>\n",
       "    </tr>\n",
       "    <tr>\n",
       "      <th>14</th>\n",
       "      <td>15</td>\n",
       "      <td>Educational Content</td>\n",
       "      <td>Photosynthesis is the process by which green p...</td>\n",
       "    </tr>\n",
       "  </tbody>\n",
       "</table>\n",
       "</div>"
      ],
      "text/plain": [
       "    id             category                                               text\n",
       "0    1  Product Description  Experience unparalleled sound quality with the...\n",
       "1    2       Movie Synopsis  In a world ravaged by climate change, a group ...\n",
       "2    3         News Article  The city council approved the new public trans...\n",
       "3    4               Recipe  Preheat the oven to 375°F. Mix flour, sugar, a...\n",
       "4    5         Travel Guide  Discover the hidden gems of Kyoto, from tranqu...\n",
       "5    6  Scientific Abstract  This study investigates the effects of micropl...\n",
       "6    7          Book Review  An evocative tale of love and loss, 'The Silen...\n",
       "7    8          Job Posting  Looking for a skilled software engineer profic...\n",
       "8    9          User Manual  To reset your device, hold the power button fo...\n",
       "9   10     Historical Event  The Berlin Wall, constructed in 1961, symboliz...\n",
       "10  11      Customer Review  The blender exceeded my expectations with its ...\n",
       "11  12     Health & Fitness  Regular cardio workouts not only improve heart...\n",
       "12  13       Legal Document  This agreement is entered into by and between ...\n",
       "13  14       E-commerce FAQ  Q: Does this jacket have waterproof capabiliti...\n",
       "14  15  Educational Content  Photosynthesis is the process by which green p..."
      ]
     },
     "execution_count": 94,
     "metadata": {},
     "output_type": "execute_result"
    }
   ],
   "source": [
    "# Turn sample data into df for export to data folder\n",
    "import pandas as pd\n",
    "sample_df = pd.DataFrame(sample_data)"
   ]
  },
  {
   "cell_type": "code",
   "execution_count": 95,
   "id": "8fc2c661",
   "metadata": {},
   "outputs": [
    {
     "data": {
      "application/vnd.microsoft.datawrangler.viewer.v0+json": {
       "columns": [
        {
         "name": "index",
         "rawType": "int64",
         "type": "integer"
        },
        {
         "name": "id",
         "rawType": "int64",
         "type": "integer"
        },
        {
         "name": "category",
         "rawType": "object",
         "type": "string"
        },
        {
         "name": "text",
         "rawType": "object",
         "type": "string"
        }
       ],
       "ref": "015c2662-e05b-4245-90e8-36a5a58fcf25",
       "rows": [
        [
         "0",
         "1",
         "Product Description",
         "Experience unparalleled sound quality with the EchoSphere wireless earbuds, featuring noise cancellation, 12-hour battery life, and an ergonomic design perfect for workouts."
        ],
        [
         "1",
         "2",
         "Movie Synopsis",
         "In a world ravaged by climate change, a group of unlikely heroes embarks on a perilous journey to save humanity from extinction."
        ],
        [
         "2",
         "3",
         "News Article",
         "The city council approved the new public transportation plan yesterday, aiming to reduce traffic congestion and lower carbon emissions by 2030."
        ],
        [
         "3",
         "4",
         "Recipe",
         "Preheat the oven to 375°F. Mix flour, sugar, and eggs in a bowl, then fold in fresh blueberries. Bake for 25 minutes or until golden brown."
        ],
        [
         "4",
         "5",
         "Travel Guide",
         "Discover the hidden gems of Kyoto, from tranquil temples to bustling markets, and experience authentic Japanese culture like never before."
        ],
        [
         "5",
         "6",
         "Scientific Abstract",
         "This study investigates the effects of microplastic pollution on marine ecosystems, revealing significant impacts on coral reef health and biodiversity."
        ],
        [
         "6",
         "7",
         "Book Review",
         "An evocative tale of love and loss, 'The Silent Horizon' beautifully captures the complexities of human relationships through vivid prose."
        ],
        [
         "7",
         "8",
         "Job Posting",
         "Looking for a skilled software engineer proficient in Python and cloud computing to join a fast-paced startup focused on AI-driven healthcare solutions."
        ],
        [
         "8",
         "9",
         "User Manual",
         "To reset your device, hold the power button for 10 seconds until the LED indicator flashes. Release the button and wait for the system reboot."
        ],
        [
         "9",
         "10",
         "Historical Event",
         "The Berlin Wall, constructed in 1961, symbolized the Cold War division between East and West Germany until its fall in 1989 sparked reunification."
        ],
        [
         "10",
         "11",
         "Customer Review",
         "The blender exceeded my expectations with its powerful motor and easy-to-clean design. Perfect for smoothies and soups!"
        ],
        [
         "11",
         "12",
         "Health & Fitness",
         "Regular cardio workouts not only improve heart health but also boost mental clarity and reduce stress levels."
        ],
        [
         "12",
         "13",
         "Legal Document",
         "This agreement is entered into by and between Party A and Party B for the purpose of outlining the terms and conditions of service."
        ],
        [
         "13",
         "14",
         "E-commerce FAQ",
         "Q: Does this jacket have waterproof capabilities? A: Yes, it is made with breathable waterproof fabric suitable for heavy rain."
        ],
        [
         "14",
         "15",
         "Educational Content",
         "Photosynthesis is the process by which green plants convert sunlight into chemical energy, producing oxygen as a byproduct."
        ]
       ],
       "shape": {
        "columns": 3,
        "rows": 15
       }
      },
      "text/html": [
       "<div>\n",
       "<style scoped>\n",
       "    .dataframe tbody tr th:only-of-type {\n",
       "        vertical-align: middle;\n",
       "    }\n",
       "\n",
       "    .dataframe tbody tr th {\n",
       "        vertical-align: top;\n",
       "    }\n",
       "\n",
       "    .dataframe thead th {\n",
       "        text-align: right;\n",
       "    }\n",
       "</style>\n",
       "<table border=\"1\" class=\"dataframe\">\n",
       "  <thead>\n",
       "    <tr style=\"text-align: right;\">\n",
       "      <th></th>\n",
       "      <th>id</th>\n",
       "      <th>category</th>\n",
       "      <th>text</th>\n",
       "    </tr>\n",
       "  </thead>\n",
       "  <tbody>\n",
       "    <tr>\n",
       "      <th>0</th>\n",
       "      <td>1</td>\n",
       "      <td>Product Description</td>\n",
       "      <td>Experience unparalleled sound quality with the...</td>\n",
       "    </tr>\n",
       "    <tr>\n",
       "      <th>1</th>\n",
       "      <td>2</td>\n",
       "      <td>Movie Synopsis</td>\n",
       "      <td>In a world ravaged by climate change, a group ...</td>\n",
       "    </tr>\n",
       "    <tr>\n",
       "      <th>2</th>\n",
       "      <td>3</td>\n",
       "      <td>News Article</td>\n",
       "      <td>The city council approved the new public trans...</td>\n",
       "    </tr>\n",
       "    <tr>\n",
       "      <th>3</th>\n",
       "      <td>4</td>\n",
       "      <td>Recipe</td>\n",
       "      <td>Preheat the oven to 375°F. Mix flour, sugar, a...</td>\n",
       "    </tr>\n",
       "    <tr>\n",
       "      <th>4</th>\n",
       "      <td>5</td>\n",
       "      <td>Travel Guide</td>\n",
       "      <td>Discover the hidden gems of Kyoto, from tranqu...</td>\n",
       "    </tr>\n",
       "    <tr>\n",
       "      <th>5</th>\n",
       "      <td>6</td>\n",
       "      <td>Scientific Abstract</td>\n",
       "      <td>This study investigates the effects of micropl...</td>\n",
       "    </tr>\n",
       "    <tr>\n",
       "      <th>6</th>\n",
       "      <td>7</td>\n",
       "      <td>Book Review</td>\n",
       "      <td>An evocative tale of love and loss, 'The Silen...</td>\n",
       "    </tr>\n",
       "    <tr>\n",
       "      <th>7</th>\n",
       "      <td>8</td>\n",
       "      <td>Job Posting</td>\n",
       "      <td>Looking for a skilled software engineer profic...</td>\n",
       "    </tr>\n",
       "    <tr>\n",
       "      <th>8</th>\n",
       "      <td>9</td>\n",
       "      <td>User Manual</td>\n",
       "      <td>To reset your device, hold the power button fo...</td>\n",
       "    </tr>\n",
       "    <tr>\n",
       "      <th>9</th>\n",
       "      <td>10</td>\n",
       "      <td>Historical Event</td>\n",
       "      <td>The Berlin Wall, constructed in 1961, symboliz...</td>\n",
       "    </tr>\n",
       "    <tr>\n",
       "      <th>10</th>\n",
       "      <td>11</td>\n",
       "      <td>Customer Review</td>\n",
       "      <td>The blender exceeded my expectations with its ...</td>\n",
       "    </tr>\n",
       "    <tr>\n",
       "      <th>11</th>\n",
       "      <td>12</td>\n",
       "      <td>Health &amp; Fitness</td>\n",
       "      <td>Regular cardio workouts not only improve heart...</td>\n",
       "    </tr>\n",
       "    <tr>\n",
       "      <th>12</th>\n",
       "      <td>13</td>\n",
       "      <td>Legal Document</td>\n",
       "      <td>This agreement is entered into by and between ...</td>\n",
       "    </tr>\n",
       "    <tr>\n",
       "      <th>13</th>\n",
       "      <td>14</td>\n",
       "      <td>E-commerce FAQ</td>\n",
       "      <td>Q: Does this jacket have waterproof capabiliti...</td>\n",
       "    </tr>\n",
       "    <tr>\n",
       "      <th>14</th>\n",
       "      <td>15</td>\n",
       "      <td>Educational Content</td>\n",
       "      <td>Photosynthesis is the process by which green p...</td>\n",
       "    </tr>\n",
       "  </tbody>\n",
       "</table>\n",
       "</div>"
      ],
      "text/plain": [
       "    id             category                                               text\n",
       "0    1  Product Description  Experience unparalleled sound quality with the...\n",
       "1    2       Movie Synopsis  In a world ravaged by climate change, a group ...\n",
       "2    3         News Article  The city council approved the new public trans...\n",
       "3    4               Recipe  Preheat the oven to 375°F. Mix flour, sugar, a...\n",
       "4    5         Travel Guide  Discover the hidden gems of Kyoto, from tranqu...\n",
       "5    6  Scientific Abstract  This study investigates the effects of micropl...\n",
       "6    7          Book Review  An evocative tale of love and loss, 'The Silen...\n",
       "7    8          Job Posting  Looking for a skilled software engineer profic...\n",
       "8    9          User Manual  To reset your device, hold the power button fo...\n",
       "9   10     Historical Event  The Berlin Wall, constructed in 1961, symboliz...\n",
       "10  11      Customer Review  The blender exceeded my expectations with its ...\n",
       "11  12     Health & Fitness  Regular cardio workouts not only improve heart...\n",
       "12  13       Legal Document  This agreement is entered into by and between ...\n",
       "13  14       E-commerce FAQ  Q: Does this jacket have waterproof capabiliti...\n",
       "14  15  Educational Content  Photosynthesis is the process by which green p..."
      ]
     },
     "execution_count": 95,
     "metadata": {},
     "output_type": "execute_result"
    }
   ],
   "source": [
    "sample_df"
   ]
  },
  {
   "cell_type": "code",
   "execution_count": 97,
   "id": "a55cbca8",
   "metadata": {},
   "outputs": [],
   "source": [
    "\n",
    "sample_df.to_csv(path_or_buf = \"../data/synthetic_data.csv\", sep = \",\", )"
   ]
  },
  {
   "cell_type": "code",
   "execution_count": 4,
   "id": "7c104589",
   "metadata": {},
   "outputs": [
    {
     "data": {
      "text/plain": [
       "[{'id': 1, 'category': 'Product Description'},\n",
       " {'id': 2, 'category': 'Movie Synopsis'},\n",
       " {'id': 3, 'category': 'News Article'},\n",
       " {'id': 4, 'category': 'Recipe'},\n",
       " {'id': 5, 'category': 'Travel Guide'},\n",
       " {'id': 6, 'category': 'Scientific Abstract'},\n",
       " {'id': 7, 'category': 'Book Review'},\n",
       " {'id': 8, 'category': 'Job Posting'},\n",
       " {'id': 9, 'category': 'User Manual'},\n",
       " {'id': 10, 'category': 'Historical Event'},\n",
       " {'id': 11, 'category': 'Customer Review'},\n",
       " {'id': 12, 'category': 'Health & Fitness'},\n",
       " {'id': 13, 'category': 'Legal Document'},\n",
       " {'id': 14, 'category': 'E-commerce FAQ'},\n",
       " {'id': 15, 'category': 'Educational Content'}]"
      ]
     },
     "execution_count": 4,
     "metadata": {},
     "output_type": "execute_result"
    }
   ],
   "source": [
    "sample_metadata"
   ]
  },
  {
   "cell_type": "code",
   "execution_count": 12,
   "id": "6a867963",
   "metadata": {},
   "outputs": [
    {
     "name": "stdout",
     "output_type": "stream",
     "text": [
      "List of metadata fields: id, category\n"
     ]
    }
   ],
   "source": [
    "print(f\"List of metadata fields: {', '.join(list(sample_metadata[0].keys()))}\")"
   ]
  },
  {
   "cell_type": "code",
   "execution_count": null,
   "id": "89a8851e",
   "metadata": {},
   "outputs": [],
   "source": []
  }
 ],
 "metadata": {
  "kernelspec": {
   "display_name": ".venv",
   "language": "python",
   "name": "python3"
  },
  "language_info": {
   "codemirror_mode": {
    "name": "ipython",
    "version": 3
   },
   "file_extension": ".py",
   "mimetype": "text/x-python",
   "name": "python",
   "nbconvert_exporter": "python",
   "pygments_lexer": "ipython3",
   "version": "3.10.10"
  }
 },
 "nbformat": 4,
 "nbformat_minor": 5
}

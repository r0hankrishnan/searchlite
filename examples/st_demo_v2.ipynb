{
 "cells": [
  {
   "cell_type": "markdown",
   "id": "217312f2",
   "metadata": {},
   "source": [
    "# `searchlite` Sentence Transformers Demo Notebook v2.0 \n",
    "This notebook contains code walking through how to use `searchlite` with an embedding model from the `sentence-transformers` library. Before running the notebook, **make sure you've pip installed the optional dependency** by doing:\n",
    "\n",
    "```bash\n",
    "pip install searchlite[sentence_transformers]\n",
    "```\n",
    "\n",
    "In this notebook, we'll load a sample text data set with some metadata, split the dataframe into the text and its metadata, load it into `searchlite`, and perform/display a semantic search."
   ]
  },
  {
   "cell_type": "markdown",
   "id": "01b296e3",
   "metadata": {},
   "source": [
    "First, import your dependencies to load your data. For this example, you'll only need pandas (for loading in our example data) and os (for defining the file path to our example data)."
   ]
  },
  {
   "cell_type": "code",
   "execution_count": null,
   "id": "da7dd442",
   "metadata": {},
   "outputs": [],
   "source": [
    "import pandas as pd\n",
    "import os"
   ]
  },
  {
   "cell_type": "markdown",
   "id": "826f2903",
   "metadata": {},
   "source": [
    "## Import and look at data"
   ]
  },
  {
   "cell_type": "markdown",
   "id": "19271301",
   "metadata": {},
   "source": [
    "Next, define the path to the sample data. In this case it is in the data folder. After defining the path, use pandas to load in the csv file as a data frame."
   ]
  },
  {
   "cell_type": "code",
   "execution_count": 2,
   "id": "2178c84c",
   "metadata": {},
   "outputs": [],
   "source": [
    "sample_df = pd.read_csv(\n",
    "    os.path.join(\n",
    "        os.getcwd(), \"../data/synthetic_data.csv\"), \n",
    "    index_col = 0)"
   ]
  },
  {
   "cell_type": "markdown",
   "id": "452524ba",
   "metadata": {},
   "source": [
    "Let's take a look at our sample data below. The data consists of 15 distinct pieces of text with corresponding id and category values. Each text topic is quite different so you can test the semantic search with different queries to see if the results makes sense."
   ]
  },
  {
   "cell_type": "code",
   "execution_count": 3,
   "id": "576ea31b",
   "metadata": {},
   "outputs": [
    {
     "data": {
      "application/vnd.microsoft.datawrangler.viewer.v0+json": {
       "columns": [
        {
         "name": "index",
         "rawType": "int64",
         "type": "integer"
        },
        {
         "name": "id",
         "rawType": "int64",
         "type": "integer"
        },
        {
         "name": "category",
         "rawType": "object",
         "type": "string"
        },
        {
         "name": "text",
         "rawType": "object",
         "type": "string"
        }
       ],
       "ref": "c621c6a4-46d5-430d-84b1-74339dc5795c",
       "rows": [
        [
         "0",
         "1",
         "Product Description",
         "Experience unparalleled sound quality with the EchoSphere wireless earbuds, featuring noise cancellation, 12-hour battery life, and an ergonomic design perfect for workouts."
        ],
        [
         "1",
         "2",
         "Movie Synopsis",
         "In a world ravaged by climate change, a group of unlikely heroes embarks on a perilous journey to save humanity from extinction."
        ],
        [
         "2",
         "3",
         "News Article",
         "The city council approved the new public transportation plan yesterday, aiming to reduce traffic congestion and lower carbon emissions by 2030."
        ],
        [
         "3",
         "4",
         "Recipe",
         "Preheat the oven to 375°F. Mix flour, sugar, and eggs in a bowl, then fold in fresh blueberries. Bake for 25 minutes or until golden brown."
        ],
        [
         "4",
         "5",
         "Travel Guide",
         "Discover the hidden gems of Kyoto, from tranquil temples to bustling markets, and experience authentic Japanese culture like never before."
        ],
        [
         "5",
         "6",
         "Scientific Abstract",
         "This study investigates the effects of microplastic pollution on marine ecosystems, revealing significant impacts on coral reef health and biodiversity."
        ],
        [
         "6",
         "7",
         "Book Review",
         "An evocative tale of love and loss, 'The Silent Horizon' beautifully captures the complexities of human relationships through vivid prose."
        ],
        [
         "7",
         "8",
         "Job Posting",
         "Looking for a skilled software engineer proficient in Python and cloud computing to join a fast-paced startup focused on AI-driven healthcare solutions."
        ],
        [
         "8",
         "9",
         "User Manual",
         "To reset your device, hold the power button for 10 seconds until the LED indicator flashes. Release the button and wait for the system reboot."
        ],
        [
         "9",
         "10",
         "Historical Event",
         "The Berlin Wall, constructed in 1961, symbolized the Cold War division between East and West Germany until its fall in 1989 sparked reunification."
        ],
        [
         "10",
         "11",
         "Customer Review",
         "The blender exceeded my expectations with its powerful motor and easy-to-clean design. Perfect for smoothies and soups!"
        ],
        [
         "11",
         "12",
         "Health & Fitness",
         "Regular cardio workouts not only improve heart health but also boost mental clarity and reduce stress levels."
        ],
        [
         "12",
         "13",
         "Legal Document",
         "This agreement is entered into by and between Party A and Party B for the purpose of outlining the terms and conditions of service."
        ],
        [
         "13",
         "14",
         "E-commerce FAQ",
         "Q: Does this jacket have waterproof capabilities? A: Yes, it is made with breathable waterproof fabric suitable for heavy rain."
        ],
        [
         "14",
         "15",
         "Educational Content",
         "Photosynthesis is the process by which green plants convert sunlight into chemical energy, producing oxygen as a byproduct."
        ]
       ],
       "shape": {
        "columns": 3,
        "rows": 15
       }
      },
      "text/html": [
       "<div>\n",
       "<style scoped>\n",
       "    .dataframe tbody tr th:only-of-type {\n",
       "        vertical-align: middle;\n",
       "    }\n",
       "\n",
       "    .dataframe tbody tr th {\n",
       "        vertical-align: top;\n",
       "    }\n",
       "\n",
       "    .dataframe thead th {\n",
       "        text-align: right;\n",
       "    }\n",
       "</style>\n",
       "<table border=\"1\" class=\"dataframe\">\n",
       "  <thead>\n",
       "    <tr style=\"text-align: right;\">\n",
       "      <th></th>\n",
       "      <th>id</th>\n",
       "      <th>category</th>\n",
       "      <th>text</th>\n",
       "    </tr>\n",
       "  </thead>\n",
       "  <tbody>\n",
       "    <tr>\n",
       "      <th>0</th>\n",
       "      <td>1</td>\n",
       "      <td>Product Description</td>\n",
       "      <td>Experience unparalleled sound quality with the...</td>\n",
       "    </tr>\n",
       "    <tr>\n",
       "      <th>1</th>\n",
       "      <td>2</td>\n",
       "      <td>Movie Synopsis</td>\n",
       "      <td>In a world ravaged by climate change, a group ...</td>\n",
       "    </tr>\n",
       "    <tr>\n",
       "      <th>2</th>\n",
       "      <td>3</td>\n",
       "      <td>News Article</td>\n",
       "      <td>The city council approved the new public trans...</td>\n",
       "    </tr>\n",
       "    <tr>\n",
       "      <th>3</th>\n",
       "      <td>4</td>\n",
       "      <td>Recipe</td>\n",
       "      <td>Preheat the oven to 375°F. Mix flour, sugar, a...</td>\n",
       "    </tr>\n",
       "    <tr>\n",
       "      <th>4</th>\n",
       "      <td>5</td>\n",
       "      <td>Travel Guide</td>\n",
       "      <td>Discover the hidden gems of Kyoto, from tranqu...</td>\n",
       "    </tr>\n",
       "    <tr>\n",
       "      <th>5</th>\n",
       "      <td>6</td>\n",
       "      <td>Scientific Abstract</td>\n",
       "      <td>This study investigates the effects of micropl...</td>\n",
       "    </tr>\n",
       "    <tr>\n",
       "      <th>6</th>\n",
       "      <td>7</td>\n",
       "      <td>Book Review</td>\n",
       "      <td>An evocative tale of love and loss, 'The Silen...</td>\n",
       "    </tr>\n",
       "    <tr>\n",
       "      <th>7</th>\n",
       "      <td>8</td>\n",
       "      <td>Job Posting</td>\n",
       "      <td>Looking for a skilled software engineer profic...</td>\n",
       "    </tr>\n",
       "    <tr>\n",
       "      <th>8</th>\n",
       "      <td>9</td>\n",
       "      <td>User Manual</td>\n",
       "      <td>To reset your device, hold the power button fo...</td>\n",
       "    </tr>\n",
       "    <tr>\n",
       "      <th>9</th>\n",
       "      <td>10</td>\n",
       "      <td>Historical Event</td>\n",
       "      <td>The Berlin Wall, constructed in 1961, symboliz...</td>\n",
       "    </tr>\n",
       "    <tr>\n",
       "      <th>10</th>\n",
       "      <td>11</td>\n",
       "      <td>Customer Review</td>\n",
       "      <td>The blender exceeded my expectations with its ...</td>\n",
       "    </tr>\n",
       "    <tr>\n",
       "      <th>11</th>\n",
       "      <td>12</td>\n",
       "      <td>Health &amp; Fitness</td>\n",
       "      <td>Regular cardio workouts not only improve heart...</td>\n",
       "    </tr>\n",
       "    <tr>\n",
       "      <th>12</th>\n",
       "      <td>13</td>\n",
       "      <td>Legal Document</td>\n",
       "      <td>This agreement is entered into by and between ...</td>\n",
       "    </tr>\n",
       "    <tr>\n",
       "      <th>13</th>\n",
       "      <td>14</td>\n",
       "      <td>E-commerce FAQ</td>\n",
       "      <td>Q: Does this jacket have waterproof capabiliti...</td>\n",
       "    </tr>\n",
       "    <tr>\n",
       "      <th>14</th>\n",
       "      <td>15</td>\n",
       "      <td>Educational Content</td>\n",
       "      <td>Photosynthesis is the process by which green p...</td>\n",
       "    </tr>\n",
       "  </tbody>\n",
       "</table>\n",
       "</div>"
      ],
      "text/plain": [
       "    id             category                                               text\n",
       "0    1  Product Description  Experience unparalleled sound quality with the...\n",
       "1    2       Movie Synopsis  In a world ravaged by climate change, a group ...\n",
       "2    3         News Article  The city council approved the new public trans...\n",
       "3    4               Recipe  Preheat the oven to 375°F. Mix flour, sugar, a...\n",
       "4    5         Travel Guide  Discover the hidden gems of Kyoto, from tranqu...\n",
       "5    6  Scientific Abstract  This study investigates the effects of micropl...\n",
       "6    7          Book Review  An evocative tale of love and loss, 'The Silen...\n",
       "7    8          Job Posting  Looking for a skilled software engineer profic...\n",
       "8    9          User Manual  To reset your device, hold the power button fo...\n",
       "9   10     Historical Event  The Berlin Wall, constructed in 1961, symboliz...\n",
       "10  11      Customer Review  The blender exceeded my expectations with its ...\n",
       "11  12     Health & Fitness  Regular cardio workouts not only improve heart...\n",
       "12  13       Legal Document  This agreement is entered into by and between ...\n",
       "13  14       E-commerce FAQ  Q: Does this jacket have waterproof capabiliti...\n",
       "14  15  Educational Content  Photosynthesis is the process by which green p..."
      ]
     },
     "execution_count": 3,
     "metadata": {},
     "output_type": "execute_result"
    }
   ],
   "source": [
    "sample_df"
   ]
  },
  {
   "cell_type": "markdown",
   "id": "276d3892",
   "metadata": {},
   "source": [
    "Before initializing the `Document` class, you need to split the dataframe into the text you want to embed and it's corresponding metadata (shown below). You can accomplish this by simply isolating the text column and by using the .to_dict() method to convert the metadata columns into a list of dictionaries, with each entry corresponding to a row in the dataframe."
   ]
  },
  {
   "cell_type": "code",
   "execution_count": 4,
   "id": "88c5d4fb",
   "metadata": {},
   "outputs": [],
   "source": [
    "sample_texts = sample_df[\"text\"]\n",
    "sample_metadata = sample_df[[\"id\", \"category\"]].to_dict(orient = \"records\")"
   ]
  },
  {
   "cell_type": "code",
   "execution_count": 5,
   "id": "28622120",
   "metadata": {},
   "outputs": [
    {
     "data": {
      "text/plain": [
       "0    Experience unparalleled sound quality with the...\n",
       "1    In a world ravaged by climate change, a group ...\n",
       "2    The city council approved the new public trans...\n",
       "Name: text, dtype: object"
      ]
     },
     "execution_count": 5,
     "metadata": {},
     "output_type": "execute_result"
    }
   ],
   "source": [
    "sample_texts[0:3]"
   ]
  },
  {
   "cell_type": "code",
   "execution_count": 6,
   "id": "b9c776bd",
   "metadata": {},
   "outputs": [
    {
     "data": {
      "text/plain": [
       "[{'id': 1, 'category': 'Product Description'},\n",
       " {'id': 2, 'category': 'Movie Synopsis'},\n",
       " {'id': 3, 'category': 'News Article'}]"
      ]
     },
     "execution_count": 6,
     "metadata": {},
     "output_type": "execute_result"
    }
   ],
   "source": [
    "sample_metadata[0:3]"
   ]
  },
  {
   "cell_type": "markdown",
   "id": "43b71ec0",
   "metadata": {},
   "source": [
    "## Use searchlite to embed text and run semantic search"
   ]
  },
  {
   "cell_type": "markdown",
   "id": "4a9fe23e",
   "metadata": {},
   "source": [
    "Now, you can use `searchlite` to embed and query your text. In this notebook, we are specifically demoing the `sentence-transformer` library's embedding models. The first thing you need to do is import `Document` and `SentenceTransformerEmbedder` from `searchlite`."
   ]
  },
  {
   "cell_type": "code",
   "execution_count": 17,
   "id": "c2040594",
   "metadata": {},
   "outputs": [],
   "source": [
    "from searchlite.document import Document\n",
    "from searchlite.embedders.sentence_transformer import SentenceTransformerEmbedder"
   ]
  },
  {
   "cell_type": "markdown",
   "id": "d7b2980b",
   "metadata": {},
   "source": [
    "Before creating your document, you have to instantiate your `SentenceTransformerEmbedder`. You must pass the name of the embedding model you want to use into the 'model_name' attribute of the class. Upon instantiating, `searchlite` will load the model into an attribute of the class."
   ]
  },
  {
   "cell_type": "code",
   "execution_count": 8,
   "id": "ebfedb26",
   "metadata": {},
   "outputs": [
    {
     "name": "stderr",
     "output_type": "stream",
     "text": [
      "/Users/rohankrishnan/Documents/GitHub/searchlite/.venv/lib/python3.10/site-packages/tqdm/auto.py:21: TqdmWarning: IProgress not found. Please update jupyter and ipywidgets. See https://ipywidgets.readthedocs.io/en/stable/user_install.html\n",
      "  from .autonotebook import tqdm as notebook_tqdm\n"
     ]
    }
   ],
   "source": [
    "embedder = SentenceTransformerEmbedder(model_name = \"all-MiniLM-L6-v2\")"
   ]
  },
  {
   "cell_type": "markdown",
   "id": "8e02eb10",
   "metadata": {},
   "source": [
    "You can see below that the `SentenceTransformerEmbedder` class is really just a simple wrapper of the SentenceTransformer class. "
   ]
  },
  {
   "cell_type": "code",
   "execution_count": 9,
   "id": "a34489ea",
   "metadata": {},
   "outputs": [
    {
     "data": {
      "text/plain": [
       "This embedder is a SentenceTransformer instance in a wrapper.\n",
       "Sentence Transformer __repr__: SentenceTransformer(\n",
       "  (0): Transformer({'max_seq_length': 256, 'do_lower_case': False, 'architecture': 'BertModel'})\n",
       "  (1): Pooling({'word_embedding_dimension': 384, 'pooling_mode_cls_token': False, 'pooling_mode_mean_tokens': True, 'pooling_mode_max_tokens': False, 'pooling_mode_mean_sqrt_len_tokens': False, 'pooling_mode_weightedmean_tokens': False, 'pooling_mode_lasttoken': False, 'include_prompt': True})\n",
       "  (2): Normalize()\n",
       ")"
      ]
     },
     "execution_count": 9,
     "metadata": {},
     "output_type": "execute_result"
    }
   ],
   "source": [
    "embedder"
   ]
  },
  {
   "cell_type": "markdown",
   "id": "b781b0fa",
   "metadata": {},
   "source": [
    "Now, you can initialize the `Document` class. As shown below, both the text and metadata are saved as attributes. Before performing search, you must generate embeddings for the texts stored within the `Document` instance. \n",
    "\n",
    "Be sure to assign your instantiated embedder to the embedder attribute of your document. If you don't, `searchlite` will automatically assign the `SkTFIDFEmbedder` as the embedding model for the document."
   ]
  },
  {
   "cell_type": "code",
   "execution_count": 10,
   "id": "64c3bb9a",
   "metadata": {},
   "outputs": [],
   "source": [
    "doc = Document(texts = sample_texts, metadata = sample_metadata, embedder = embedder)"
   ]
  },
  {
   "cell_type": "code",
   "execution_count": 11,
   "id": "de5dca31",
   "metadata": {},
   "outputs": [
    {
     "data": {
      "text/plain": [
       "Document instance with 15 texts. Metadata contains the following fields: id, category. Embeddings: Not Ready."
      ]
     },
     "execution_count": 11,
     "metadata": {},
     "output_type": "execute_result"
    }
   ],
   "source": [
    "doc"
   ]
  },
  {
   "cell_type": "markdown",
   "id": "4b7d4b19",
   "metadata": {},
   "source": [
    "Run the .embed() method to run sentence-transformer's SentenceTransformer embedder. If you want to use a different source for your embedding model, check out the other example notebooks to see how to initialize different embedders and pass it to your document."
   ]
  },
  {
   "cell_type": "code",
   "execution_count": 12,
   "id": "cd52492c",
   "metadata": {},
   "outputs": [],
   "source": [
    "doc.embed()"
   ]
  },
  {
   "cell_type": "markdown",
   "id": "dd063e9a",
   "metadata": {},
   "source": [
    "After generating your text embeddings, you can run semantic search on your text corpus by using the .query() method. Your query will be embedded into a vector and compared against your text corpus using cosine similarity. By default, .query() returns the top 3 matches but this can be changed by modifying the **top_k** parameter.\n",
    "\n",
    "As you can see from the cell below, .query() returns a list of dictionaries with each dictionary containing the metadata and text of the identified matches."
   ]
  },
  {
   "cell_type": "code",
   "execution_count": 13,
   "id": "0c8220c1",
   "metadata": {},
   "outputs": [
    {
     "data": {
      "text/plain": [
       "[{'id': 1,\n",
       "  'category': 'Product Description',\n",
       "  'text': 'Experience unparalleled sound quality with the EchoSphere wireless earbuds, featuring noise cancellation, 12-hour battery life, and an ergonomic design perfect for workouts.',\n",
       "  'similarity score': 0.68724173},\n",
       " {'id': 5,\n",
       "  'category': 'Travel Guide',\n",
       "  'text': 'Discover the hidden gems of Kyoto, from tranquil temples to bustling markets, and experience authentic Japanese culture like never before.',\n",
       "  'similarity score': 0.09249082},\n",
       " {'id': 4,\n",
       "  'category': 'Recipe',\n",
       "  'text': 'Preheat the oven to 375°F. Mix flour, sugar, and eggs in a bowl, then fold in fresh blueberries. Bake for 25 minutes or until golden brown.',\n",
       "  'similarity score': 0.074016266}]"
      ]
     },
     "execution_count": 13,
     "metadata": {},
     "output_type": "execute_result"
    }
   ],
   "source": [
    "res = doc.query(query_text = \"wireless earbuds with good battery life\")\n",
    "res"
   ]
  },
  {
   "cell_type": "markdown",
   "id": "44d98e23",
   "metadata": {},
   "source": [
    "The `Document` class has three options to nicely display the results of your semantic search in the terminal: f-string, pprint, and tabulate.\n",
    "\n",
    "- \"f-string\" outputs a custom f-string (defined in document.py)\n",
    "\n",
    "- \"pprint\" leverages the pprint package to display a list of dictionaries of the top k results\n",
    "\n",
    "- \"tabulate\" leverages the tabulate library to display a table of the top k results."
   ]
  },
  {
   "cell_type": "code",
   "execution_count": 14,
   "id": "4ec65469",
   "metadata": {},
   "outputs": [
    {
     "name": "stdout",
     "output_type": "stream",
     "text": [
      "Result 1:\n",
      "    id: 1\n",
      "    category: Product Description\n",
      "    text: Experience unparalleled sound quality with the EchoSphere wireless earbuds, featuring noise cancellation, 12-hour battery life, and an ergonomic design perfect for workouts.\n",
      "    similarity score: 0.6872417330741882\n",
      "\n",
      "Result 2:\n",
      "    id: 5\n",
      "    category: Travel Guide\n",
      "    text: Discover the hidden gems of Kyoto, from tranquil temples to bustling markets, and experience authentic Japanese culture like never before.\n",
      "    similarity score: 0.09249082207679749\n",
      "\n",
      "Result 3:\n",
      "    id: 4\n",
      "    category: Recipe\n",
      "    text: Preheat the oven to 375°F. Mix flour, sugar, and eggs in a bowl, then fold in fresh blueberries. Bake for 25 minutes or until golden brown.\n",
      "    similarity score: 0.0740162655711174\n",
      "\n"
     ]
    }
   ],
   "source": [
    "doc.display_results(output_list_dicts = res, style = \"f-string\")"
   ]
  },
  {
   "cell_type": "code",
   "execution_count": 15,
   "id": "a26ebdd2",
   "metadata": {},
   "outputs": [
    {
     "name": "stdout",
     "output_type": "stream",
     "text": [
      "[{'category': 'Product Description',\n",
      "  'id': 1,\n",
      "  'similarity score': 0.68724173,\n",
      "  'text': 'Experience unparalleled sound quality with the EchoSphere wireless '\n",
      "          'earbuds, featuring noise cancellation, 12-hour battery life, and an '\n",
      "          'ergonomic design perfect for workouts.'},\n",
      " {'category': 'Travel Guide',\n",
      "  'id': 5,\n",
      "  'similarity score': 0.09249082,\n",
      "  'text': 'Discover the hidden gems of Kyoto, from tranquil temples to '\n",
      "          'bustling markets, and experience authentic Japanese culture like '\n",
      "          'never before.'},\n",
      " {'category': 'Recipe',\n",
      "  'id': 4,\n",
      "  'similarity score': 0.074016266,\n",
      "  'text': 'Preheat the oven to 375°F. Mix flour, sugar, and eggs in a bowl, '\n",
      "          'then fold in fresh blueberries. Bake for 25 minutes or until golden '\n",
      "          'brown.'}]\n"
     ]
    }
   ],
   "source": [
    "doc.display_results(output_list_dicts = res, style = \"pprint\")"
   ]
  },
  {
   "cell_type": "code",
   "execution_count": 16,
   "id": "38d8a21f",
   "metadata": {},
   "outputs": [
    {
     "name": "stdout",
     "output_type": "stream",
     "text": [
      "+------+---------------------+-------------------------------------------------------------------------------------------------------------------------------------------------------------------------------+--------------------+\n",
      "|   id | category            | text                                                                                                                                                                          |   similarity score |\n",
      "+======+=====================+===============================================================================================================================================================================+====================+\n",
      "|    1 | Product Description | Experience unparalleled sound quality with the EchoSphere wireless earbuds, featuring noise cancellation, 12-hour battery life, and an ergonomic design perfect for workouts. |          0.687242  |\n",
      "+------+---------------------+-------------------------------------------------------------------------------------------------------------------------------------------------------------------------------+--------------------+\n",
      "|    5 | Travel Guide        | Discover the hidden gems of Kyoto, from tranquil temples to bustling markets, and experience authentic Japanese culture like never before.                                    |          0.0924908 |\n",
      "+------+---------------------+-------------------------------------------------------------------------------------------------------------------------------------------------------------------------------+--------------------+\n",
      "|    4 | Recipe              | Preheat the oven to 375°F. Mix flour, sugar, and eggs in a bowl, then fold in fresh blueberries. Bake for 25 minutes or until golden brown.                                   |          0.0740163 |\n",
      "+------+---------------------+-------------------------------------------------------------------------------------------------------------------------------------------------------------------------------+--------------------+\n"
     ]
    }
   ],
   "source": [
    "doc.display_results(output_list_dicts = res, style = \"tabulate\")"
   ]
  }
 ],
 "metadata": {
  "kernelspec": {
   "display_name": ".venv",
   "language": "python",
   "name": "python3"
  },
  "language_info": {
   "codemirror_mode": {
    "name": "ipython",
    "version": 3
   },
   "file_extension": ".py",
   "mimetype": "text/x-python",
   "name": "python",
   "nbconvert_exporter": "python",
   "pygments_lexer": "ipython3",
   "version": "3.10.10"
  }
 },
 "nbformat": 4,
 "nbformat_minor": 5
}

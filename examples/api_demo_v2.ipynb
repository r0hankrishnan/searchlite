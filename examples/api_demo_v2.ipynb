{
 "cells": [
  {
   "cell_type": "markdown",
   "id": "c9892c5d",
   "metadata": {},
   "source": [
    "# `searchlite` API Embedding Model Demo Notebook v2.0 \n",
    "This notebook contains code walking through how to use `searchlite` with an embedding model accessed via API."
   ]
  },
  {
   "cell_type": "markdown",
   "id": "4054af26",
   "metadata": {},
   "source": [
    "This demo notebook uses the Google Gemini API and requires the google python package. Before running this notebook, **make sure you've pip installed both searchlite and the python package of your API**. In this case, you would do:\n",
    "\n",
    "```bash \n",
    "pip install searchlite google\n",
    "```\n",
    "\n",
    "In this notebook we'll load a sample text data set with some metadata, split the dataframe into the text and its metadata, load it into `searchlite`, and perform/display a semantic search.\n",
    "            "
   ]
  },
  {
   "cell_type": "markdown",
   "id": "f4240c8e",
   "metadata": {},
   "source": [
    "First, import your dependencies to load your data. For this example,             you'll only need pandas (for loading in our example data) and os (for defining the file path to our example data)."
   ]
  },
  {
   "cell_type": "code",
   "execution_count": 1,
   "id": "02cb85a1",
   "metadata": {},
   "outputs": [],
   "source": [
    "import pandas as pd\n",
    "import os"
   ]
  },
  {
   "cell_type": "markdown",
   "id": "d4b7e31e",
   "metadata": {},
   "source": [
    "## Import and look at data"
   ]
  },
  {
   "cell_type": "markdown",
   "id": "4dc7d778",
   "metadata": {},
   "source": [
    "Next, define the path to the sample data. In this case it is in the data folder.            After defining the path, use pandas to load in the csv file as a data frame."
   ]
  },
  {
   "cell_type": "code",
   "execution_count": 2,
   "id": "7ba2edce",
   "metadata": {},
   "outputs": [],
   "source": [
    "sample_df = pd.read_csv(\n",
    "   os.path.join(os.getcwd(), '../data/synthetic_data.csv'),\n",
    "   index_col=0\n",
    ")"
   ]
  },
  {
   "cell_type": "markdown",
   "id": "99fd5370",
   "metadata": {},
   "source": [
    "Let's take a look at our sample data below. The data consists of 15 distinct pieces             of text with corresponding id and category values. Each text topic is quite different so you can test the                 semantic search with different queries to see if the results makes sense."
   ]
  },
  {
   "cell_type": "code",
   "execution_count": 3,
   "id": "3aa760e6",
   "metadata": {},
   "outputs": [
    {
     "data": {
      "application/vnd.microsoft.datawrangler.viewer.v0+json": {
       "columns": [
        {
         "name": "index",
         "rawType": "int64",
         "type": "integer"
        },
        {
         "name": "id",
         "rawType": "int64",
         "type": "integer"
        },
        {
         "name": "category",
         "rawType": "object",
         "type": "string"
        },
        {
         "name": "text",
         "rawType": "object",
         "type": "string"
        }
       ],
       "ref": "9a97f156-9065-4c4e-9dfa-6c90ceed2d86",
       "rows": [
        [
         "0",
         "1",
         "Product Description",
         "Experience unparalleled sound quality with the EchoSphere wireless earbuds, featuring noise cancellation, 12-hour battery life, and an ergonomic design perfect for workouts."
        ],
        [
         "1",
         "2",
         "Movie Synopsis",
         "In a world ravaged by climate change, a group of unlikely heroes embarks on a perilous journey to save humanity from extinction."
        ],
        [
         "2",
         "3",
         "News Article",
         "The city council approved the new public transportation plan yesterday, aiming to reduce traffic congestion and lower carbon emissions by 2030."
        ],
        [
         "3",
         "4",
         "Recipe",
         "Preheat the oven to 375°F. Mix flour, sugar, and eggs in a bowl, then fold in fresh blueberries. Bake for 25 minutes or until golden brown."
        ],
        [
         "4",
         "5",
         "Travel Guide",
         "Discover the hidden gems of Kyoto, from tranquil temples to bustling markets, and experience authentic Japanese culture like never before."
        ],
        [
         "5",
         "6",
         "Scientific Abstract",
         "This study investigates the effects of microplastic pollution on marine ecosystems, revealing significant impacts on coral reef health and biodiversity."
        ],
        [
         "6",
         "7",
         "Book Review",
         "An evocative tale of love and loss, 'The Silent Horizon' beautifully captures the complexities of human relationships through vivid prose."
        ],
        [
         "7",
         "8",
         "Job Posting",
         "Looking for a skilled software engineer proficient in Python and cloud computing to join a fast-paced startup focused on AI-driven healthcare solutions."
        ],
        [
         "8",
         "9",
         "User Manual",
         "To reset your device, hold the power button for 10 seconds until the LED indicator flashes. Release the button and wait for the system reboot."
        ],
        [
         "9",
         "10",
         "Historical Event",
         "The Berlin Wall, constructed in 1961, symbolized the Cold War division between East and West Germany until its fall in 1989 sparked reunification."
        ],
        [
         "10",
         "11",
         "Customer Review",
         "The blender exceeded my expectations with its powerful motor and easy-to-clean design. Perfect for smoothies and soups!"
        ],
        [
         "11",
         "12",
         "Health & Fitness",
         "Regular cardio workouts not only improve heart health but also boost mental clarity and reduce stress levels."
        ],
        [
         "12",
         "13",
         "Legal Document",
         "This agreement is entered into by and between Party A and Party B for the purpose of outlining the terms and conditions of service."
        ],
        [
         "13",
         "14",
         "E-commerce FAQ",
         "Q: Does this jacket have waterproof capabilities? A: Yes, it is made with breathable waterproof fabric suitable for heavy rain."
        ],
        [
         "14",
         "15",
         "Educational Content",
         "Photosynthesis is the process by which green plants convert sunlight into chemical energy, producing oxygen as a byproduct."
        ]
       ],
       "shape": {
        "columns": 3,
        "rows": 15
       }
      },
      "text/html": [
       "<div>\n",
       "<style scoped>\n",
       "    .dataframe tbody tr th:only-of-type {\n",
       "        vertical-align: middle;\n",
       "    }\n",
       "\n",
       "    .dataframe tbody tr th {\n",
       "        vertical-align: top;\n",
       "    }\n",
       "\n",
       "    .dataframe thead th {\n",
       "        text-align: right;\n",
       "    }\n",
       "</style>\n",
       "<table border=\"1\" class=\"dataframe\">\n",
       "  <thead>\n",
       "    <tr style=\"text-align: right;\">\n",
       "      <th></th>\n",
       "      <th>id</th>\n",
       "      <th>category</th>\n",
       "      <th>text</th>\n",
       "    </tr>\n",
       "  </thead>\n",
       "  <tbody>\n",
       "    <tr>\n",
       "      <th>0</th>\n",
       "      <td>1</td>\n",
       "      <td>Product Description</td>\n",
       "      <td>Experience unparalleled sound quality with the...</td>\n",
       "    </tr>\n",
       "    <tr>\n",
       "      <th>1</th>\n",
       "      <td>2</td>\n",
       "      <td>Movie Synopsis</td>\n",
       "      <td>In a world ravaged by climate change, a group ...</td>\n",
       "    </tr>\n",
       "    <tr>\n",
       "      <th>2</th>\n",
       "      <td>3</td>\n",
       "      <td>News Article</td>\n",
       "      <td>The city council approved the new public trans...</td>\n",
       "    </tr>\n",
       "    <tr>\n",
       "      <th>3</th>\n",
       "      <td>4</td>\n",
       "      <td>Recipe</td>\n",
       "      <td>Preheat the oven to 375°F. Mix flour, sugar, a...</td>\n",
       "    </tr>\n",
       "    <tr>\n",
       "      <th>4</th>\n",
       "      <td>5</td>\n",
       "      <td>Travel Guide</td>\n",
       "      <td>Discover the hidden gems of Kyoto, from tranqu...</td>\n",
       "    </tr>\n",
       "    <tr>\n",
       "      <th>5</th>\n",
       "      <td>6</td>\n",
       "      <td>Scientific Abstract</td>\n",
       "      <td>This study investigates the effects of micropl...</td>\n",
       "    </tr>\n",
       "    <tr>\n",
       "      <th>6</th>\n",
       "      <td>7</td>\n",
       "      <td>Book Review</td>\n",
       "      <td>An evocative tale of love and loss, 'The Silen...</td>\n",
       "    </tr>\n",
       "    <tr>\n",
       "      <th>7</th>\n",
       "      <td>8</td>\n",
       "      <td>Job Posting</td>\n",
       "      <td>Looking for a skilled software engineer profic...</td>\n",
       "    </tr>\n",
       "    <tr>\n",
       "      <th>8</th>\n",
       "      <td>9</td>\n",
       "      <td>User Manual</td>\n",
       "      <td>To reset your device, hold the power button fo...</td>\n",
       "    </tr>\n",
       "    <tr>\n",
       "      <th>9</th>\n",
       "      <td>10</td>\n",
       "      <td>Historical Event</td>\n",
       "      <td>The Berlin Wall, constructed in 1961, symboliz...</td>\n",
       "    </tr>\n",
       "    <tr>\n",
       "      <th>10</th>\n",
       "      <td>11</td>\n",
       "      <td>Customer Review</td>\n",
       "      <td>The blender exceeded my expectations with its ...</td>\n",
       "    </tr>\n",
       "    <tr>\n",
       "      <th>11</th>\n",
       "      <td>12</td>\n",
       "      <td>Health &amp; Fitness</td>\n",
       "      <td>Regular cardio workouts not only improve heart...</td>\n",
       "    </tr>\n",
       "    <tr>\n",
       "      <th>12</th>\n",
       "      <td>13</td>\n",
       "      <td>Legal Document</td>\n",
       "      <td>This agreement is entered into by and between ...</td>\n",
       "    </tr>\n",
       "    <tr>\n",
       "      <th>13</th>\n",
       "      <td>14</td>\n",
       "      <td>E-commerce FAQ</td>\n",
       "      <td>Q: Does this jacket have waterproof capabiliti...</td>\n",
       "    </tr>\n",
       "    <tr>\n",
       "      <th>14</th>\n",
       "      <td>15</td>\n",
       "      <td>Educational Content</td>\n",
       "      <td>Photosynthesis is the process by which green p...</td>\n",
       "    </tr>\n",
       "  </tbody>\n",
       "</table>\n",
       "</div>"
      ],
      "text/plain": [
       "    id             category                                               text\n",
       "0    1  Product Description  Experience unparalleled sound quality with the...\n",
       "1    2       Movie Synopsis  In a world ravaged by climate change, a group ...\n",
       "2    3         News Article  The city council approved the new public trans...\n",
       "3    4               Recipe  Preheat the oven to 375°F. Mix flour, sugar, a...\n",
       "4    5         Travel Guide  Discover the hidden gems of Kyoto, from tranqu...\n",
       "5    6  Scientific Abstract  This study investigates the effects of micropl...\n",
       "6    7          Book Review  An evocative tale of love and loss, 'The Silen...\n",
       "7    8          Job Posting  Looking for a skilled software engineer profic...\n",
       "8    9          User Manual  To reset your device, hold the power button fo...\n",
       "9   10     Historical Event  The Berlin Wall, constructed in 1961, symboliz...\n",
       "10  11      Customer Review  The blender exceeded my expectations with its ...\n",
       "11  12     Health & Fitness  Regular cardio workouts not only improve heart...\n",
       "12  13       Legal Document  This agreement is entered into by and between ...\n",
       "13  14       E-commerce FAQ  Q: Does this jacket have waterproof capabiliti...\n",
       "14  15  Educational Content  Photosynthesis is the process by which green p..."
      ]
     },
     "execution_count": 3,
     "metadata": {},
     "output_type": "execute_result"
    }
   ],
   "source": [
    "sample_df"
   ]
  },
  {
   "cell_type": "markdown",
   "id": "d6a905a6",
   "metadata": {},
   "source": [
    "Before initializing the `Document` class, you need to split the dataframe into the             text you want to embed and it's corresponding metadata (shown below). You can accomplish this by simply                 isolating the text column and by using the .to_dict() method to convert the metadata columns into a                     list of dictionaries, with each entry corresponding to a row in the dataframe."
   ]
  },
  {
   "cell_type": "code",
   "execution_count": 4,
   "id": "1b01f0ba",
   "metadata": {},
   "outputs": [],
   "source": [
    "sample_texts = sample_df[\"text\"]\n",
    "sample_metadata = sample_df[[\"id\", \"category\"]].to_dict(orient = \"records\")"
   ]
  },
  {
   "cell_type": "code",
   "execution_count": 5,
   "id": "3f32c405",
   "metadata": {},
   "outputs": [
    {
     "data": {
      "text/plain": [
       "0    Experience unparalleled sound quality with the...\n",
       "1    In a world ravaged by climate change, a group ...\n",
       "2    The city council approved the new public trans...\n",
       "Name: text, dtype: object"
      ]
     },
     "execution_count": 5,
     "metadata": {},
     "output_type": "execute_result"
    }
   ],
   "source": [
    "sample_texts[0:3]"
   ]
  },
  {
   "cell_type": "code",
   "execution_count": 6,
   "id": "253f6201",
   "metadata": {},
   "outputs": [
    {
     "data": {
      "text/plain": [
       "[{'id': 1, 'category': 'Product Description'},\n",
       " {'id': 2, 'category': 'Movie Synopsis'},\n",
       " {'id': 3, 'category': 'News Article'}]"
      ]
     },
     "execution_count": 6,
     "metadata": {},
     "output_type": "execute_result"
    }
   ],
   "source": [
    "sample_metadata[0:3]"
   ]
  },
  {
   "cell_type": "markdown",
   "id": "c401714e",
   "metadata": {},
   "source": [
    "## Use searchlite to embed text and run semantic search"
   ]
  },
  {
   "cell_type": "markdown",
   "id": "28e40ffc",
   "metadata": {},
   "source": [
    "Now, you can initialize our `Document` class. As shown below, both the text and metadata             are saved as attributes. Before performing search, you must generate embeddings for the texts stored within the                 `Document` instance."
   ]
  },
  {
   "cell_type": "markdown",
   "id": "da13b56e",
   "metadata": {},
   "source": [
    "\n",
    "We'll be using the Google Gemini API for this demo. Before writing any code, **make sure you've pip installed teh appropriate libraries to access your api**.\n",
    "\n",
    "```bash\n",
    "pip install google-genai\n",
    "```\n",
    "\n",
    "The `ApiEmbedder` instance will automatically check if your embed_func() is structured properly. \n",
    "\n",
    "To run an ApiEmbedder, you'll need to import `Document` and `ApiEmbedder` from `searchlite`.\n",
    "        "
   ]
  },
  {
   "cell_type": "code",
   "execution_count": 7,
   "id": "16f11721",
   "metadata": {},
   "outputs": [],
   "source": [
    "from searchlite.document import Document\n",
    "from searchlite.embedders.api import ApiEmbedder   "
   ]
  },
  {
   "cell_type": "markdown",
   "id": "d02585a4",
   "metadata": {},
   "source": [
    "Before creating your document, you have to instantiate your `ApiEmbedder`. Unlike the other embedder classes, the `ApiEmbedder` class requires a bit more upfront work to integrate into searchlite. \n",
    "\n",
    "First, read through your API's documentation to see how to extract embeddings on a single string and on a list of strings. Then write an embedding function that takes in a string or list of strings, calls your embedding api, and returns a numpy array of embeddings. **Your embedding function MUST return a numpy array for BOTH an indivual string AND a list of strings**. \n",
    "\n",
    "The `ApiEmbedder` instance will check that your embedding function adheres to these output guidlines and will raise an error if it does not."
   ]
  },
  {
   "cell_type": "markdown",
   "id": "cea530fc",
   "metadata": {},
   "source": [
    "First, you need to load in your api key(s). Remember to store your api keys in a safe place and **never commit your .env files to GitHub!** To initialize the Google genai client, I'll load the dotenv and google packages, import load_dotenv (for env variables), genai (for the Gemini client), and types (to optimize embeddings for semantic search), load my environment variables, and instantiate a client with my api key."
   ]
  },
  {
   "cell_type": "code",
   "execution_count": null,
   "id": "f4b7192e",
   "metadata": {},
   "outputs": [],
   "source": [
    "from dotenv import load_dotenv\n",
    "from google import genai\n",
    "from google.genai import types"
   ]
  },
  {
   "cell_type": "code",
   "execution_count": 9,
   "id": "91bcfced",
   "metadata": {},
   "outputs": [],
   "source": [
    "load_dotenv()\n",
    "client = genai.Client(api_key = os.getenv(\"GOOGLE_API_KEY\"))"
   ]
  },
  {
   "cell_type": "markdown",
   "id": "1f854437",
   "metadata": {},
   "source": [
    "Now, you need to define your embedding function. This function will get passed into the `ApiEmbedder` instance and will allow your API embedding workflow to work with the `searchlite` workflow. **Your embedding function MUST return a numpy array for both an individual string and a list of strings**."
   ]
  },
  {
   "cell_type": "markdown",
   "id": "855c176d",
   "metadata": {},
   "source": [
    "Here's an example of the output of an incorrect embedding function."
   ]
  },
  {
   "cell_type": "code",
   "execution_count": 20,
   "id": "e79ae648",
   "metadata": {},
   "outputs": [],
   "source": [
    "def wrong_embed_func(texts):\n",
    "    return list(texts)"
   ]
  },
  {
   "cell_type": "code",
   "execution_count": 21,
   "id": "234717df",
   "metadata": {},
   "outputs": [
    {
     "name": "stderr",
     "output_type": "stream",
     "text": [
      "2025-07-16 19:38:28,052 - INFO - Validating embed_func...\n"
     ]
    },
    {
     "ename": "TypeError",
     "evalue": "Provided embed_func is not valid: embed_func must return a numpy ndarray when embedding a string or list of strings",
     "output_type": "error",
     "traceback": [
      "\u001b[0;31m---------------------------------------------------------------------------\u001b[0m",
      "\u001b[0;31mValueError\u001b[0m                                Traceback (most recent call last)",
      "File \u001b[0;32m~/Documents/GitHub/searchlite/searchlite/embedders/api.py:39\u001b[0m, in \u001b[0;36mApiEmbedder.__init__\u001b[0;34m(self, client, embed_func)\u001b[0m\n\u001b[1;32m     38\u001b[0m \u001b[38;5;28;01mif\u001b[39;00m \u001b[38;5;129;01mnot\u001b[39;00m \u001b[38;5;28misinstance\u001b[39m(res_t1, np\u001b[38;5;241m.\u001b[39mndarray) \u001b[38;5;129;01mor\u001b[39;00m \u001b[38;5;129;01mnot\u001b[39;00m \u001b[38;5;28misinstance\u001b[39m(res_t2, np\u001b[38;5;241m.\u001b[39mndarray):\n\u001b[0;32m---> 39\u001b[0m     \u001b[38;5;28;01mraise\u001b[39;00m \u001b[38;5;167;01mValueError\u001b[39;00m(\u001b[38;5;124m\"\u001b[39m\u001b[38;5;124membed_func must return a numpy ndarray when embedding a string or list of strings\u001b[39m\u001b[38;5;124m\"\u001b[39m)\n\u001b[1;32m     41\u001b[0m logger\u001b[38;5;241m.\u001b[39minfo(\u001b[38;5;124m\"\u001b[39m\u001b[38;5;124membed_func validated\u001b[39m\u001b[38;5;124m\"\u001b[39m)\n",
      "\u001b[0;31mValueError\u001b[0m: embed_func must return a numpy ndarray when embedding a string or list of strings",
      "\nDuring handling of the above exception, another exception occurred:\n",
      "\u001b[0;31mTypeError\u001b[0m                                 Traceback (most recent call last)",
      "Cell \u001b[0;32mIn[21], line 1\u001b[0m\n\u001b[0;32m----> 1\u001b[0m wrong_embedder \u001b[38;5;241m=\u001b[39m \u001b[43mApiEmbedder\u001b[49m\u001b[43m(\u001b[49m\u001b[43mclient\u001b[49m\u001b[43m \u001b[49m\u001b[38;5;241;43m=\u001b[39;49m\u001b[43m \u001b[49m\u001b[38;5;124;43m\"\u001b[39;49m\u001b[38;5;124;43mGoogle\u001b[39;49m\u001b[38;5;124;43m\"\u001b[39;49m\u001b[43m,\u001b[49m\u001b[43m \u001b[49m\u001b[43membed_func\u001b[49m\u001b[43m \u001b[49m\u001b[38;5;241;43m=\u001b[39;49m\u001b[43m \u001b[49m\u001b[43mwrong_embed_func\u001b[49m\u001b[43m)\u001b[49m\n",
      "File \u001b[0;32m~/Documents/GitHub/searchlite/searchlite/embedders/api.py:44\u001b[0m, in \u001b[0;36mApiEmbedder.__init__\u001b[0;34m(self, client, embed_func)\u001b[0m\n\u001b[1;32m     41\u001b[0m     logger\u001b[38;5;241m.\u001b[39minfo(\u001b[38;5;124m\"\u001b[39m\u001b[38;5;124membed_func validated\u001b[39m\u001b[38;5;124m\"\u001b[39m)\n\u001b[1;32m     43\u001b[0m \u001b[38;5;28;01mexcept\u001b[39;00m \u001b[38;5;167;01mException\u001b[39;00m \u001b[38;5;28;01mas\u001b[39;00m e:\n\u001b[0;32m---> 44\u001b[0m     \u001b[38;5;28;01mraise\u001b[39;00m \u001b[38;5;167;01mTypeError\u001b[39;00m(\u001b[38;5;124mf\u001b[39m\u001b[38;5;124m\"\u001b[39m\u001b[38;5;124mProvided embed_func is not valid: \u001b[39m\u001b[38;5;132;01m{\u001b[39;00me\u001b[38;5;132;01m}\u001b[39;00m\u001b[38;5;124m\"\u001b[39m)\n",
      "\u001b[0;31mTypeError\u001b[0m: Provided embed_func is not valid: embed_func must return a numpy ndarray when embedding a string or list of strings"
     ]
    }
   ],
   "source": [
    "wrong_embedder = ApiEmbedder(client = \"Google\", embed_func = wrong_embed_func)"
   ]
  },
  {
   "cell_type": "markdown",
   "id": "729f44ab",
   "metadata": {},
   "source": [
    "As you can see from the above output, the `ApiEmbedder` class will test your API embedder on a string and a list of strings before fully instantiating.\n",
    "\n",
    "Below is the correct implementation of an embedding function for the Gemini API. Be careful to confirm that the outputted arrays are oriented in the right direction. If they are not, doc.query() will throw an error. You can see that I had to run .reshape(1,-1) to ensure that my single string embedding had the right shape. This function was made in around 5 minutes mostly by directly pulling code from the [Gemini docs](https://ai.google.dev/gemini-api/docs/embeddings). \n",
    "\n",
    "I import numpy for converting the Gemini outputs to numpy arrays and typing to add type hints."
   ]
  },
  {
   "cell_type": "code",
   "execution_count": null,
   "id": "4bfa38dc",
   "metadata": {},
   "outputs": [],
   "source": [
    "from typing import Union, List\n",
    "import numpy as np\n",
    "\n",
    "def gemini_embed_func(texts:Union[List[str], str])->np.array:\n",
    "    if isinstance(texts, str):\n",
    "        embedding = client.models.embed_content(\n",
    "            model=\"gemini-embedding-001\",\n",
    "            contents=texts,\n",
    "            config=types.EmbedContentConfig(task_type=\"SEMANTIC_SIMILARITY\")).embeddings[0].values\n",
    "        \n",
    "        return np.array(embedding).reshape(1,-1)\n",
    "    else:\n",
    "        embedding_list = [\n",
    "            np.array(e.values) for e in client.models.embed_content(\n",
    "                model=\"gemini-embedding-001\",\n",
    "                contents=texts, \n",
    "                config=types.EmbedContentConfig(task_type=\"SEMANTIC_SIMILARITY\")).embeddings\n",
    "            ]\n",
    "        \n",
    "        return np.array(embedding_list)"
   ]
  },
  {
   "cell_type": "markdown",
   "id": "cc355e54",
   "metadata": {},
   "source": [
    "Once you've defined your embedding function properly, you can proceed through the rest of the `searchlite` workflow as you would with any other embedder! First, instantiate your `ApiEmbedder` with the embed_func. "
   ]
  },
  {
   "cell_type": "code",
   "execution_count": 11,
   "id": "66544871",
   "metadata": {},
   "outputs": [
    {
     "name": "stderr",
     "output_type": "stream",
     "text": [
      "2025-07-16 19:36:09,980 - INFO - Validating embed_func...\n",
      "2025-07-16 19:36:10,405 - INFO - embed_func validated\n"
     ]
    }
   ],
   "source": [
    "embedder = ApiEmbedder(client = \"Google Gemini [gemini-embedding-001]\", embed_func = gemini_embed_func)"
   ]
  },
  {
   "cell_type": "code",
   "execution_count": 12,
   "id": "7115ebe5",
   "metadata": {},
   "outputs": [
    {
     "data": {
      "text/plain": [
       "Api Embedder Object with client: Google Gemini [gemini-embedding-001]."
      ]
     },
     "execution_count": 12,
     "metadata": {},
     "output_type": "execute_result"
    }
   ],
   "source": [
    "embedder"
   ]
  },
  {
   "cell_type": "markdown",
   "id": "4747b5bc",
   "metadata": {},
   "source": [
    "Now, you can initialize our `Document` class. As shown below, both the text and metadata are saved as attributes. Before performing search, you must generate embeddings for the texts stored within the `Document` instance. \n",
    "\n",
    "Be sure to assign your instantiated embedder to the embedder attribute of your document. If you don't, `searchlite` will automatically assign the `SkTFIDFEmbedder` as the embedding model for the document.\n",
    "            "
   ]
  },
  {
   "cell_type": "code",
   "execution_count": 13,
   "id": "f19a997e",
   "metadata": {},
   "outputs": [],
   "source": [
    "doc = Document(texts = sample_texts, metadata = sample_metadata, embedder = embedder)"
   ]
  },
  {
   "cell_type": "code",
   "execution_count": 14,
   "id": "f0412cef",
   "metadata": {},
   "outputs": [
    {
     "data": {
      "text/plain": [
       "Document instance with 15 texts. Metadata contains the following fields: id, category. Embeddings: Not Ready.\n",
       "Embedder:Api Embedder Object with client: Google Gemini [gemini-embedding-001]."
      ]
     },
     "execution_count": 14,
     "metadata": {},
     "output_type": "execute_result"
    }
   ],
   "source": [
    "doc"
   ]
  },
  {
   "cell_type": "markdown",
   "id": "4611fb98",
   "metadata": {},
   "source": [
    "Run the .embed() method to run scikit-learn's TFIDF Vectorizer. If you want to use a different             source for your embedding model, check out the other example notebooks to see how to initialize an embedder and pass it to your `Document`."
   ]
  },
  {
   "cell_type": "code",
   "execution_count": 15,
   "id": "1fdbb0d8",
   "metadata": {},
   "outputs": [],
   "source": [
    "doc.embed()"
   ]
  },
  {
   "cell_type": "markdown",
   "id": "4442fdd4",
   "metadata": {},
   "source": [
    "After generating your text embeddings, you can run semantic search on your text corpus by using the             .query() method. Your query will be embedded into a vector and compared against your text corpus using cosine similarity.                 By default, .query() returns the top 3 matches but this can be changed by modifying the **top_k** parameter.\n",
    "As you can                     see from the cell below, .query() returns a list of dictionaries with each dictionary containing the metadata and text                         of the identified matches."
   ]
  },
  {
   "cell_type": "code",
   "execution_count": 16,
   "id": "a603a9aa",
   "metadata": {},
   "outputs": [
    {
     "data": {
      "text/plain": [
       "[{'id': 1,\n",
       "  'category': 'Product Description',\n",
       "  'text': 'Experience unparalleled sound quality with the EchoSphere wireless earbuds, featuring noise cancellation, 12-hour battery life, and an ergonomic design perfect for workouts.',\n",
       "  'similarity score': 0.8904592105832237},\n",
       " {'id': 12,\n",
       "  'category': 'Health & Fitness',\n",
       "  'text': 'Regular cardio workouts not only improve heart health but also boost mental clarity and reduce stress levels.',\n",
       "  'similarity score': 0.7685993907097357},\n",
       " {'id': 14,\n",
       "  'category': 'E-commerce FAQ',\n",
       "  'text': 'Q: Does this jacket have waterproof capabilities? A: Yes, it is made with breathable waterproof fabric suitable for heavy rain.',\n",
       "  'similarity score': 0.7622437181467848}]"
      ]
     },
     "execution_count": 16,
     "metadata": {},
     "output_type": "execute_result"
    }
   ],
   "source": [
    "res = doc.query(query_text = 'wireless earbuds with good battery life')\n",
    "res          "
   ]
  },
  {
   "cell_type": "markdown",
   "id": "ff657605",
   "metadata": {},
   "source": [
    "The `Document` class has three options to nicely display the results of your semantic search in the terminal: f-string, pprint, and tabulate.\n",
    "\n",
    "- \"f-string\" outputs a custom f-string (defined in document.py)\n",
    "\n",
    "- \"pprint\" leverages the pprint package to display a list of dictionaries of the top k results\n",
    "\n",
    "- \"tabulate\" leverages the tabulate library to display a table of the top k results.\n",
    "    "
   ]
  },
  {
   "cell_type": "code",
   "execution_count": 17,
   "id": "bef84d55",
   "metadata": {},
   "outputs": [
    {
     "name": "stdout",
     "output_type": "stream",
     "text": [
      "Result 1:\n",
      "    id: 1\n",
      "    category: Product Description\n",
      "    text: Experience unparalleled sound quality with the EchoSphere wireless earbuds, featuring noise cancellation, 12-hour battery life, and an ergonomic design perfect for workouts.\n",
      "    similarity score: 0.8904592105832237\n",
      "\n",
      "Result 2:\n",
      "    id: 12\n",
      "    category: Health & Fitness\n",
      "    text: Regular cardio workouts not only improve heart health but also boost mental clarity and reduce stress levels.\n",
      "    similarity score: 0.7685993907097357\n",
      "\n",
      "Result 3:\n",
      "    id: 14\n",
      "    category: E-commerce FAQ\n",
      "    text: Q: Does this jacket have waterproof capabilities? A: Yes, it is made with breathable waterproof fabric suitable for heavy rain.\n",
      "    similarity score: 0.7622437181467848\n",
      "\n"
     ]
    }
   ],
   "source": [
    "doc.display_results(output_list_dicts = res, style = 'f-string')"
   ]
  },
  {
   "cell_type": "code",
   "execution_count": 18,
   "id": "ed1ae7fb",
   "metadata": {},
   "outputs": [
    {
     "name": "stdout",
     "output_type": "stream",
     "text": [
      "[{'category': 'Product Description',\n",
      "  'id': 1,\n",
      "  'similarity score': 0.8904592105832237,\n",
      "  'text': 'Experience unparalleled sound quality with the EchoSphere wireless '\n",
      "          'earbuds, featuring noise cancellation, 12-hour battery life, and an '\n",
      "          'ergonomic design perfect for workouts.'},\n",
      " {'category': 'Health & Fitness',\n",
      "  'id': 12,\n",
      "  'similarity score': 0.7685993907097357,\n",
      "  'text': 'Regular cardio workouts not only improve heart health but also '\n",
      "          'boost mental clarity and reduce stress levels.'},\n",
      " {'category': 'E-commerce FAQ',\n",
      "  'id': 14,\n",
      "  'similarity score': 0.7622437181467848,\n",
      "  'text': 'Q: Does this jacket have waterproof capabilities? A: Yes, it is '\n",
      "          'made with breathable waterproof fabric suitable for heavy rain.'}]\n"
     ]
    }
   ],
   "source": [
    "doc.display_results(output_list_dicts = res, style = 'pprint')"
   ]
  },
  {
   "cell_type": "code",
   "execution_count": 19,
   "id": "3864bfed",
   "metadata": {},
   "outputs": [
    {
     "name": "stdout",
     "output_type": "stream",
     "text": [
      "+------+---------------------+-------------------------------------------------------------------------------------------------------------------------------------------------------------------------------+--------------------+\n",
      "|   id | category            | text                                                                                                                                                                          |   similarity score |\n",
      "+======+=====================+===============================================================================================================================================================================+====================+\n",
      "|    1 | Product Description | Experience unparalleled sound quality with the EchoSphere wireless earbuds, featuring noise cancellation, 12-hour battery life, and an ergonomic design perfect for workouts. |           0.890459 |\n",
      "+------+---------------------+-------------------------------------------------------------------------------------------------------------------------------------------------------------------------------+--------------------+\n",
      "|   12 | Health & Fitness    | Regular cardio workouts not only improve heart health but also boost mental clarity and reduce stress levels.                                                                 |           0.768599 |\n",
      "+------+---------------------+-------------------------------------------------------------------------------------------------------------------------------------------------------------------------------+--------------------+\n",
      "|   14 | E-commerce FAQ      | Q: Does this jacket have waterproof capabilities? A: Yes, it is made with breathable waterproof fabric suitable for heavy rain.                                               |           0.762244 |\n",
      "+------+---------------------+-------------------------------------------------------------------------------------------------------------------------------------------------------------------------------+--------------------+\n"
     ]
    }
   ],
   "source": [
    "doc.display_results(output_list_dicts = res, style = 'tabulate')"
   ]
  }
 ],
 "metadata": {
  "kernelspec": {
   "display_name": ".venv",
   "language": "python",
   "name": "python3"
  },
  "language_info": {
   "codemirror_mode": {
    "name": "ipython",
    "version": 3
   },
   "file_extension": ".py",
   "mimetype": "text/x-python",
   "name": "python",
   "nbconvert_exporter": "python",
   "pygments_lexer": "ipython3",
   "version": "3.10.10"
  }
 },
 "nbformat": 4,
 "nbformat_minor": 5
}

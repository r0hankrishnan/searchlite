{
 "cells": [
  {
   "cell_type": "markdown",
   "id": "b77f29a6",
   "metadata": {},
   "source": [
    "## `searchlite` Basic Demo Notebook v2\n",
    "\n",
    "This notebook contains basic code walking through the first version of `searchlite`. We'll load a sample text data set with some metadata, split the dataframe into the text and its metadata, load it into `searchlite`, and perform and display a semantic search. "
   ]
  },
  {
   "cell_type": "markdown",
   "id": "d4eee9d8",
   "metadata": {},
   "source": [
    "First, import your dependencies. For this simple example, we only need searchlite, pandas (for loading in our example data), and os (for defining the file path to our example data)."
   ]
  },
  {
   "cell_type": "code",
   "execution_count": 1,
   "id": "269b7424",
   "metadata": {},
   "outputs": [],
   "source": [
    "import pandas as pd\n",
    "import os"
   ]
  },
  {
   "cell_type": "markdown",
   "id": "9cf0456b",
   "metadata": {},
   "source": [
    "## Import and look at data"
   ]
  },
  {
   "cell_type": "markdown",
   "id": "6a29a843",
   "metadata": {},
   "source": [
    "Next, define the path to the sample data. In this case it is in the data folder. After defining the path, use pandas to load in the csv file as a data frame. "
   ]
  },
  {
   "cell_type": "code",
   "execution_count": 2,
   "id": "62bdc557",
   "metadata": {},
   "outputs": [],
   "source": [
    "sample_df = pd.read_csv(\n",
    "    os.path.join(\n",
    "        os.getcwd(), \"../data/synthetic_data.csv\"), \n",
    "    index_col = 0)"
   ]
  },
  {
   "cell_type": "markdown",
   "id": "5e38190a",
   "metadata": {},
   "source": [
    "Let's take a look at our sample data below. The data consists of 15 distinct pieces of text with corresponding id and category values. Each text topic is quite different so you can test the semantic search with different queries to see if the results makes sense."
   ]
  },
  {
   "cell_type": "code",
   "execution_count": 3,
   "id": "892afa55",
   "metadata": {},
   "outputs": [
    {
     "data": {
      "application/vnd.microsoft.datawrangler.viewer.v0+json": {
       "columns": [
        {
         "name": "index",
         "rawType": "int64",
         "type": "integer"
        },
        {
         "name": "id",
         "rawType": "int64",
         "type": "integer"
        },
        {
         "name": "category",
         "rawType": "object",
         "type": "string"
        },
        {
         "name": "text",
         "rawType": "object",
         "type": "string"
        }
       ],
       "ref": "3a352831-b19b-40f2-bb8d-cf458ff28812",
       "rows": [
        [
         "0",
         "1",
         "Product Description",
         "Experience unparalleled sound quality with the EchoSphere wireless earbuds, featuring noise cancellation, 12-hour battery life, and an ergonomic design perfect for workouts."
        ],
        [
         "1",
         "2",
         "Movie Synopsis",
         "In a world ravaged by climate change, a group of unlikely heroes embarks on a perilous journey to save humanity from extinction."
        ],
        [
         "2",
         "3",
         "News Article",
         "The city council approved the new public transportation plan yesterday, aiming to reduce traffic congestion and lower carbon emissions by 2030."
        ],
        [
         "3",
         "4",
         "Recipe",
         "Preheat the oven to 375°F. Mix flour, sugar, and eggs in a bowl, then fold in fresh blueberries. Bake for 25 minutes or until golden brown."
        ],
        [
         "4",
         "5",
         "Travel Guide",
         "Discover the hidden gems of Kyoto, from tranquil temples to bustling markets, and experience authentic Japanese culture like never before."
        ],
        [
         "5",
         "6",
         "Scientific Abstract",
         "This study investigates the effects of microplastic pollution on marine ecosystems, revealing significant impacts on coral reef health and biodiversity."
        ],
        [
         "6",
         "7",
         "Book Review",
         "An evocative tale of love and loss, 'The Silent Horizon' beautifully captures the complexities of human relationships through vivid prose."
        ],
        [
         "7",
         "8",
         "Job Posting",
         "Looking for a skilled software engineer proficient in Python and cloud computing to join a fast-paced startup focused on AI-driven healthcare solutions."
        ],
        [
         "8",
         "9",
         "User Manual",
         "To reset your device, hold the power button for 10 seconds until the LED indicator flashes. Release the button and wait for the system reboot."
        ],
        [
         "9",
         "10",
         "Historical Event",
         "The Berlin Wall, constructed in 1961, symbolized the Cold War division between East and West Germany until its fall in 1989 sparked reunification."
        ],
        [
         "10",
         "11",
         "Customer Review",
         "The blender exceeded my expectations with its powerful motor and easy-to-clean design. Perfect for smoothies and soups!"
        ],
        [
         "11",
         "12",
         "Health & Fitness",
         "Regular cardio workouts not only improve heart health but also boost mental clarity and reduce stress levels."
        ],
        [
         "12",
         "13",
         "Legal Document",
         "This agreement is entered into by and between Party A and Party B for the purpose of outlining the terms and conditions of service."
        ],
        [
         "13",
         "14",
         "E-commerce FAQ",
         "Q: Does this jacket have waterproof capabilities? A: Yes, it is made with breathable waterproof fabric suitable for heavy rain."
        ],
        [
         "14",
         "15",
         "Educational Content",
         "Photosynthesis is the process by which green plants convert sunlight into chemical energy, producing oxygen as a byproduct."
        ]
       ],
       "shape": {
        "columns": 3,
        "rows": 15
       }
      },
      "text/html": [
       "<div>\n",
       "<style scoped>\n",
       "    .dataframe tbody tr th:only-of-type {\n",
       "        vertical-align: middle;\n",
       "    }\n",
       "\n",
       "    .dataframe tbody tr th {\n",
       "        vertical-align: top;\n",
       "    }\n",
       "\n",
       "    .dataframe thead th {\n",
       "        text-align: right;\n",
       "    }\n",
       "</style>\n",
       "<table border=\"1\" class=\"dataframe\">\n",
       "  <thead>\n",
       "    <tr style=\"text-align: right;\">\n",
       "      <th></th>\n",
       "      <th>id</th>\n",
       "      <th>category</th>\n",
       "      <th>text</th>\n",
       "    </tr>\n",
       "  </thead>\n",
       "  <tbody>\n",
       "    <tr>\n",
       "      <th>0</th>\n",
       "      <td>1</td>\n",
       "      <td>Product Description</td>\n",
       "      <td>Experience unparalleled sound quality with the...</td>\n",
       "    </tr>\n",
       "    <tr>\n",
       "      <th>1</th>\n",
       "      <td>2</td>\n",
       "      <td>Movie Synopsis</td>\n",
       "      <td>In a world ravaged by climate change, a group ...</td>\n",
       "    </tr>\n",
       "    <tr>\n",
       "      <th>2</th>\n",
       "      <td>3</td>\n",
       "      <td>News Article</td>\n",
       "      <td>The city council approved the new public trans...</td>\n",
       "    </tr>\n",
       "    <tr>\n",
       "      <th>3</th>\n",
       "      <td>4</td>\n",
       "      <td>Recipe</td>\n",
       "      <td>Preheat the oven to 375°F. Mix flour, sugar, a...</td>\n",
       "    </tr>\n",
       "    <tr>\n",
       "      <th>4</th>\n",
       "      <td>5</td>\n",
       "      <td>Travel Guide</td>\n",
       "      <td>Discover the hidden gems of Kyoto, from tranqu...</td>\n",
       "    </tr>\n",
       "    <tr>\n",
       "      <th>5</th>\n",
       "      <td>6</td>\n",
       "      <td>Scientific Abstract</td>\n",
       "      <td>This study investigates the effects of micropl...</td>\n",
       "    </tr>\n",
       "    <tr>\n",
       "      <th>6</th>\n",
       "      <td>7</td>\n",
       "      <td>Book Review</td>\n",
       "      <td>An evocative tale of love and loss, 'The Silen...</td>\n",
       "    </tr>\n",
       "    <tr>\n",
       "      <th>7</th>\n",
       "      <td>8</td>\n",
       "      <td>Job Posting</td>\n",
       "      <td>Looking for a skilled software engineer profic...</td>\n",
       "    </tr>\n",
       "    <tr>\n",
       "      <th>8</th>\n",
       "      <td>9</td>\n",
       "      <td>User Manual</td>\n",
       "      <td>To reset your device, hold the power button fo...</td>\n",
       "    </tr>\n",
       "    <tr>\n",
       "      <th>9</th>\n",
       "      <td>10</td>\n",
       "      <td>Historical Event</td>\n",
       "      <td>The Berlin Wall, constructed in 1961, symboliz...</td>\n",
       "    </tr>\n",
       "    <tr>\n",
       "      <th>10</th>\n",
       "      <td>11</td>\n",
       "      <td>Customer Review</td>\n",
       "      <td>The blender exceeded my expectations with its ...</td>\n",
       "    </tr>\n",
       "    <tr>\n",
       "      <th>11</th>\n",
       "      <td>12</td>\n",
       "      <td>Health &amp; Fitness</td>\n",
       "      <td>Regular cardio workouts not only improve heart...</td>\n",
       "    </tr>\n",
       "    <tr>\n",
       "      <th>12</th>\n",
       "      <td>13</td>\n",
       "      <td>Legal Document</td>\n",
       "      <td>This agreement is entered into by and between ...</td>\n",
       "    </tr>\n",
       "    <tr>\n",
       "      <th>13</th>\n",
       "      <td>14</td>\n",
       "      <td>E-commerce FAQ</td>\n",
       "      <td>Q: Does this jacket have waterproof capabiliti...</td>\n",
       "    </tr>\n",
       "    <tr>\n",
       "      <th>14</th>\n",
       "      <td>15</td>\n",
       "      <td>Educational Content</td>\n",
       "      <td>Photosynthesis is the process by which green p...</td>\n",
       "    </tr>\n",
       "  </tbody>\n",
       "</table>\n",
       "</div>"
      ],
      "text/plain": [
       "    id             category                                               text\n",
       "0    1  Product Description  Experience unparalleled sound quality with the...\n",
       "1    2       Movie Synopsis  In a world ravaged by climate change, a group ...\n",
       "2    3         News Article  The city council approved the new public trans...\n",
       "3    4               Recipe  Preheat the oven to 375°F. Mix flour, sugar, a...\n",
       "4    5         Travel Guide  Discover the hidden gems of Kyoto, from tranqu...\n",
       "5    6  Scientific Abstract  This study investigates the effects of micropl...\n",
       "6    7          Book Review  An evocative tale of love and loss, 'The Silen...\n",
       "7    8          Job Posting  Looking for a skilled software engineer profic...\n",
       "8    9          User Manual  To reset your device, hold the power button fo...\n",
       "9   10     Historical Event  The Berlin Wall, constructed in 1961, symboliz...\n",
       "10  11      Customer Review  The blender exceeded my expectations with its ...\n",
       "11  12     Health & Fitness  Regular cardio workouts not only improve heart...\n",
       "12  13       Legal Document  This agreement is entered into by and between ...\n",
       "13  14       E-commerce FAQ  Q: Does this jacket have waterproof capabiliti...\n",
       "14  15  Educational Content  Photosynthesis is the process by which green p..."
      ]
     },
     "execution_count": 3,
     "metadata": {},
     "output_type": "execute_result"
    }
   ],
   "source": [
    "sample_df"
   ]
  },
  {
   "cell_type": "markdown",
   "id": "70a75bb3",
   "metadata": {},
   "source": [
    "Before initializing the `Document` class, you need to split the dataframe into the text you want to embed and it's corresponding metadata (shown below). You can accomplish this by simply isolating the text column and by using the .to_dict() method to convert the metadata columns into a list of dictionaries, with each entry corresponding to a row in the dataframe. "
   ]
  },
  {
   "cell_type": "code",
   "execution_count": 4,
   "id": "d4ad3e45",
   "metadata": {},
   "outputs": [],
   "source": [
    "sample_texts = sample_df[\"text\"]\n",
    "sample_metadata = sample_df[[\"id\", \"category\"]].to_dict(orient = \"records\")"
   ]
  },
  {
   "cell_type": "code",
   "execution_count": 5,
   "id": "8592dd6c",
   "metadata": {},
   "outputs": [
    {
     "data": {
      "text/plain": [
       "0    Experience unparalleled sound quality with the...\n",
       "1    In a world ravaged by climate change, a group ...\n",
       "2    The city council approved the new public trans...\n",
       "Name: text, dtype: object"
      ]
     },
     "execution_count": 5,
     "metadata": {},
     "output_type": "execute_result"
    }
   ],
   "source": [
    "sample_texts[0:3]"
   ]
  },
  {
   "cell_type": "code",
   "execution_count": 6,
   "id": "21a815df",
   "metadata": {},
   "outputs": [
    {
     "data": {
      "text/plain": [
       "[{'id': 1, 'category': 'Product Description'},\n",
       " {'id': 2, 'category': 'Movie Synopsis'},\n",
       " {'id': 3, 'category': 'News Article'}]"
      ]
     },
     "execution_count": 6,
     "metadata": {},
     "output_type": "execute_result"
    }
   ],
   "source": [
    "sample_metadata[0:3]"
   ]
  },
  {
   "cell_type": "markdown",
   "id": "e3b5408b",
   "metadata": {},
   "source": [
    "## Use searchlite to embed text and run semantic search"
   ]
  },
  {
   "cell_type": "markdown",
   "id": "f3e0f533",
   "metadata": {},
   "source": [
    "Now, you can initialize our `Document` class. As shown below, both the text and metadata are saved as attributes. Before performing search, you must generate embeddings for the texts stored within the `Document` instance. For the basic demo, you only need to import `Document` from `searchlite.document`.\n",
    "\n",
    "Note that if you do not specify a model, `searchlite` automatically imports the `SkTFIDFEmbedder` class which implements scikit-learn's TFIDF Vectorizer. Upon initializing your `Document`, the SkTFIDFEmbedder will automatically be fit to your texts."
   ]
  },
  {
   "cell_type": "code",
   "execution_count": 7,
   "id": "effd3dfa",
   "metadata": {},
   "outputs": [],
   "source": [
    "from searchlite.document import Document"
   ]
  },
  {
   "cell_type": "code",
   "execution_count": 8,
   "id": "a580e293",
   "metadata": {},
   "outputs": [],
   "source": [
    "doc = Document(texts = sample_texts, metadata = sample_metadata)"
   ]
  },
  {
   "cell_type": "code",
   "execution_count": 9,
   "id": "2ed00993",
   "metadata": {},
   "outputs": [
    {
     "data": {
      "text/plain": [
       "Document instance with 15 texts. Metadata contains the following fields: id, category. Embeddings: Not Ready.\n",
       "Embedder:TFIDFEmbedder object implemented using scikit-learn.\n",
       " Embedder fitted: True"
      ]
     },
     "execution_count": 9,
     "metadata": {},
     "output_type": "execute_result"
    }
   ],
   "source": [
    "doc"
   ]
  },
  {
   "cell_type": "markdown",
   "id": "38915833",
   "metadata": {},
   "source": [
    "Run the .embed() method to run scikit-learn's TFIDF Vectorizer. If you want to use a different embedding model, check out the other example notebooks to see how to initialize an embedder and pass it to your `Document`."
   ]
  },
  {
   "cell_type": "code",
   "execution_count": 10,
   "id": "8ee3e64f",
   "metadata": {},
   "outputs": [],
   "source": [
    "doc.embed()"
   ]
  },
  {
   "cell_type": "markdown",
   "id": "a6fc31f6",
   "metadata": {},
   "source": [
    "After generating your text embeddings, you can run semantic search on your text corpus by using the .query() method. Your query will be embedded into a vector and compared against your text corpus using cosine similarity. By default, .query() returns the top 3 matches but this can be changed by modifying the **top_k** parameter.\n",
    "\n",
    "As you can see from the cell below, .query() returns a list of dictionaries with each dictionary containing the metadata and text of the identified matches."
   ]
  },
  {
   "cell_type": "code",
   "execution_count": 11,
   "id": "4112e771",
   "metadata": {},
   "outputs": [
    {
     "data": {
      "text/plain": [
       "[{'id': 1,\n",
       "  'category': 'Product Description',\n",
       "  'text': 'Experience unparalleled sound quality with the EchoSphere wireless earbuds, featuring noise cancellation, 12-hour battery life, and an ergonomic design perfect for workouts.',\n",
       "  'similarity score': 0.4920494237945505},\n",
       " {'id': 11,\n",
       "  'category': 'Customer Review',\n",
       "  'text': 'The blender exceeded my expectations with its powerful motor and easy-to-clean design. Perfect for smoothies and soups!',\n",
       "  'similarity score': 0.07414576593774012},\n",
       " {'id': 14,\n",
       "  'category': 'E-commerce FAQ',\n",
       "  'text': 'Q: Does this jacket have waterproof capabilities? A: Yes, it is made with breathable waterproof fabric suitable for heavy rain.',\n",
       "  'similarity score': 0.0657987549804305}]"
      ]
     },
     "execution_count": 11,
     "metadata": {},
     "output_type": "execute_result"
    }
   ],
   "source": [
    "res = doc.query(query_text = \"wireless earbuds with good battery life\")\n",
    "res"
   ]
  },
  {
   "cell_type": "markdown",
   "id": "4ece2bfe",
   "metadata": {},
   "source": [
    "The `Document` class has three options to nicely display the results of your semantic search in the terminal: f-string, pprint, and tabulate.\n",
    "\n",
    "- \"f-string\" outputs a custom f-string (defined in document.py)\n",
    "\n",
    "- \"pprint\" leverages the pprint package to display a list of dictionaries of the top k results\n",
    "\n",
    "- \"tabulate\" leverages the tabulate library to display a table of the top k results."
   ]
  },
  {
   "cell_type": "code",
   "execution_count": 12,
   "id": "dc1fb025",
   "metadata": {},
   "outputs": [
    {
     "name": "stdout",
     "output_type": "stream",
     "text": [
      "Result 1:\n",
      "    id: 1\n",
      "    category: Product Description\n",
      "    text: Experience unparalleled sound quality with the EchoSphere wireless earbuds, featuring noise cancellation, 12-hour battery life, and an ergonomic design perfect for workouts.\n",
      "    similarity score: 0.4920494237945505\n",
      "\n",
      "Result 2:\n",
      "    id: 11\n",
      "    category: Customer Review\n",
      "    text: The blender exceeded my expectations with its powerful motor and easy-to-clean design. Perfect for smoothies and soups!\n",
      "    similarity score: 0.07414576593774012\n",
      "\n",
      "Result 3:\n",
      "    id: 14\n",
      "    category: E-commerce FAQ\n",
      "    text: Q: Does this jacket have waterproof capabilities? A: Yes, it is made with breathable waterproof fabric suitable for heavy rain.\n",
      "    similarity score: 0.0657987549804305\n",
      "\n"
     ]
    }
   ],
   "source": [
    "doc.display_results(output_list_dicts = res, style = \"f-string\")"
   ]
  },
  {
   "cell_type": "code",
   "execution_count": 13,
   "id": "2764328d",
   "metadata": {},
   "outputs": [
    {
     "name": "stdout",
     "output_type": "stream",
     "text": [
      "[{'category': 'Product Description',\n",
      "  'id': 1,\n",
      "  'similarity score': 0.4920494237945505,\n",
      "  'text': 'Experience unparalleled sound quality with the EchoSphere wireless '\n",
      "          'earbuds, featuring noise cancellation, 12-hour battery life, and an '\n",
      "          'ergonomic design perfect for workouts.'},\n",
      " {'category': 'Customer Review',\n",
      "  'id': 11,\n",
      "  'similarity score': 0.07414576593774012,\n",
      "  'text': 'The blender exceeded my expectations with its powerful motor and '\n",
      "          'easy-to-clean design. Perfect for smoothies and soups!'},\n",
      " {'category': 'E-commerce FAQ',\n",
      "  'id': 14,\n",
      "  'similarity score': 0.0657987549804305,\n",
      "  'text': 'Q: Does this jacket have waterproof capabilities? A: Yes, it is '\n",
      "          'made with breathable waterproof fabric suitable for heavy rain.'}]\n"
     ]
    }
   ],
   "source": [
    "doc.display_results(output_list_dicts = res, style = \"pprint\")"
   ]
  },
  {
   "cell_type": "code",
   "execution_count": 14,
   "id": "6450f455",
   "metadata": {},
   "outputs": [
    {
     "name": "stdout",
     "output_type": "stream",
     "text": [
      "+------+---------------------+-------------------------------------------------------------------------------------------------------------------------------------------------------------------------------+--------------------+\n",
      "|   id | category            | text                                                                                                                                                                          |   similarity score |\n",
      "+======+=====================+===============================================================================================================================================================================+====================+\n",
      "|    1 | Product Description | Experience unparalleled sound quality with the EchoSphere wireless earbuds, featuring noise cancellation, 12-hour battery life, and an ergonomic design perfect for workouts. |          0.492049  |\n",
      "+------+---------------------+-------------------------------------------------------------------------------------------------------------------------------------------------------------------------------+--------------------+\n",
      "|   11 | Customer Review     | The blender exceeded my expectations with its powerful motor and easy-to-clean design. Perfect for smoothies and soups!                                                       |          0.0741458 |\n",
      "+------+---------------------+-------------------------------------------------------------------------------------------------------------------------------------------------------------------------------+--------------------+\n",
      "|   14 | E-commerce FAQ      | Q: Does this jacket have waterproof capabilities? A: Yes, it is made with breathable waterproof fabric suitable for heavy rain.                                               |          0.0657988 |\n",
      "+------+---------------------+-------------------------------------------------------------------------------------------------------------------------------------------------------------------------------+--------------------+\n"
     ]
    }
   ],
   "source": [
    "doc.display_results(output_list_dicts = res, style = \"tabulate\")"
   ]
  }
 ],
 "metadata": {
  "kernelspec": {
   "display_name": ".venv",
   "language": "python",
   "name": "python3"
  },
  "language_info": {
   "codemirror_mode": {
    "name": "ipython",
    "version": 3
   },
   "file_extension": ".py",
   "mimetype": "text/x-python",
   "name": "python",
   "nbconvert_exporter": "python",
   "pygments_lexer": "ipython3",
   "version": "3.10.10"
  }
 },
 "nbformat": 4,
 "nbformat_minor": 5
}
